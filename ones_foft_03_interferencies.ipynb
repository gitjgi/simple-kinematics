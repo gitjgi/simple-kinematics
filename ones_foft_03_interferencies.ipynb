{
 "cells": [
  {
   "cell_type": "markdown",
   "metadata": {},
   "source": [
    "# Ones"
   ]
  },
  {
   "cell_type": "markdown",
   "metadata": {},
   "source": [
    "### Representació gràfica i animada dels conceptes d'ones"
   ]
  },
  {
   "cell_type": "markdown",
   "metadata": {},
   "source": [
    "Preparat per l'assignatura:\n",
    "\n",
    "Fonaments d'Ones Fluids i Termodinàmica\n",
    "\n",
    "Enginyeria Electrònica de Telecomunicacions\n",
    "\n",
    "Facultat de Física, Universitat de Barcelona"
   ]
  },
  {
   "cell_type": "markdown",
   "metadata": {},
   "source": [
    "(c) Jaume Guasch 2023, \n",
    "Llicència: Creative Commons \n",
    "CC-BY-NC-SA 4.0\n",
    "This work is licensed under CC BY-NC-SA 4.0 https://creativecommons.org/licenses/by-nc-sa/4.0/"
   ]
  },
  {
   "cell_type": "markdown",
   "metadata": {},
   "source": [
    "# Instruccions per entregar el treball"
   ]
  },
  {
   "cell_type": "markdown",
   "metadata": {},
   "source": [
    "1.- Escriu els teus nom i cognoms. Fes doble-clic a la cel·la de sota per editar-la, i escriu-hi el teus nom i cognoms"
   ]
  },
  {
   "cell_type": "markdown",
   "metadata": {},
   "source": [
    "**Cognoms, nom:** "
   ]
  },
  {
   "cell_type": "markdown",
   "metadata": {},
   "source": [
    "2.- Avalua **totes** les cel·les del document. Per avaluar una cel·la fes \"Majúscules-retorn\" o clica al botó \"Run\" del menú superior."
   ]
  },
  {
   "cell_type": "markdown",
   "metadata": {},
   "source": [
    "Opcionalment: Pots mirar de variar algun dels paràmetres de la simulació. **Compte!**: si varies el paràmetres probablement hauràs de canviar els límits dels gràfics (i potser algun altre paràmetre)."
   ]
  },
  {
   "cell_type": "markdown",
   "metadata": {},
   "source": [
    "3.- Guarda el resultat (amb tots els gràfics) en un document **PDF** i baixa'l al teu dispositiu. Utilitza el menú **Imprimir** del teu navegador"
   ]
  },
  {
   "cell_type": "markdown",
   "metadata": {},
   "source": [
    "4.- Entrega el PDF generat en la tasca corresponent del campus virtual"
   ]
  },
  {
   "cell_type": "markdown",
   "metadata": {},
   "source": [
    "Opcionalment: Pots baixar-te al teu ordinador el document com un notebook de python o com un programa python utilitzant el menú \"File->Download as ...\" del notebook. Després pots executar el programa al teu ordinador."
   ]
  },
  {
   "cell_type": "markdown",
   "metadata": {},
   "source": [
    "**NOTA**: el programa online **no guarda l'estat** has de fer-ho tot seguit en una sola sessió."
   ]
  },
  {
   "cell_type": "markdown",
   "metadata": {},
   "source": [
    "## Setup\n",
    "Inicialització dels entorns de càlcul i gràfics"
   ]
  },
  {
   "cell_type": "code",
   "execution_count": null,
   "metadata": {},
   "outputs": [],
   "source": [
    "# Càlcul Simbòlic\n",
    "from sympy import *"
   ]
  },
  {
   "cell_type": "code",
   "execution_count": null,
   "metadata": {},
   "outputs": [],
   "source": [
    "# Gràfics\n",
    "import matplotlib.pyplot as plt"
   ]
  },
  {
   "cell_type": "code",
   "execution_count": null,
   "metadata": {},
   "outputs": [],
   "source": [
    "# Animacions\n",
    "import matplotlib.animation as animation"
   ]
  },
  {
   "cell_type": "code",
   "execution_count": null,
   "metadata": {},
   "outputs": [],
   "source": [
    "# Per càlculs numèrics\n",
    "import numpy as np"
   ]
  },
  {
   "cell_type": "markdown",
   "metadata": {},
   "source": [
    "**ATENCIÓ**\n",
    "Això és necessari per mostrar les animacions dins el notebook.\n",
    "Noteu que **ÉS CONVENIENT PARAR** el gràfic després de veure'l"
   ]
  },
  {
   "cell_type": "code",
   "execution_count": null,
   "metadata": {},
   "outputs": [],
   "source": [
    "# Aquest entorn és només per entorn \"jupyter notebook\", \n",
    "# per posar els gràfics dins el mateix notebook\n",
    "# Comentar aquesta línia en altres entorns:\n",
    "%matplotlib notebook"
   ]
  },
  {
   "cell_type": "code",
   "execution_count": null,
   "metadata": {},
   "outputs": [],
   "source": [
    "# Per escriure els outputs de forma bonica:\n",
    "init_printing(use_unicode=True)"
   ]
  },
  {
   "cell_type": "code",
   "execution_count": null,
   "metadata": {},
   "outputs": [],
   "source": [
    "# Les variables x, t, les utilitzarem per definir les funcions de les ones\n",
    "x, t, v=symbols('x t v')"
   ]
  },
  {
   "cell_type": "code",
   "execution_count": null,
   "metadata": {},
   "outputs": [],
   "source": [
    "# Aquesta funció serveix per fer les animacions.\n",
    "# Donada una certa expressió \"f\" en sympy, que depèn de'x' i 't',\n",
    "# torna un objecte 'line', que és una línia de 'plot'\n",
    "def update_function_x_t(time, xrange, f, line):\n",
    "    '''update_function_x_t(time, xrange, f, line)\n",
    "    function used to animate a wave, for shape \"f\", which depends on sympy symbols 'x' and 't'\n",
    "    time = float : numerical scalar, represents time \n",
    "    xrange = list of floats, a list (or range) of space variable 'x', created for example \n",
    "             as x=np.linspace(-10,10,20)\n",
    "    f = sympy expression, which depends **ONLY** on sympy symbols 'x' and 't'\n",
    "    line = line object from a plot to be updated\n",
    "    '''\n",
    "    # substitute the value of time\n",
    "    f1=f.subs(t,time)\n",
    "    # substitute the value of x. Since x is a range, we have to make it in a loop (comprehension list)\n",
    "    # f2=[f1.subs(x,i) for i in xrange]\n",
    "    # To speed up things, convert f1 to an anonymous lambda function from numpy\n",
    "    f1lambda=lambdify(x,f1,'numpy')\n",
    "    f2=f1lambda(xrange)\n",
    "    line.set_data(xrange,f2)\n",
    "    return line,"
   ]
  },
  {
   "cell_type": "markdown",
   "metadata": {},
   "source": [
    "## Ones Viatgeres"
   ]
  },
  {
   "cell_type": "markdown",
   "metadata": {},
   "source": [
    "Funció Fixa"
   ]
  },
  {
   "cell_type": "code",
   "execution_count": null,
   "metadata": {},
   "outputs": [],
   "source": [
    "YY=exp(-x**2)"
   ]
  },
  {
   "cell_type": "code",
   "execution_count": null,
   "metadata": {},
   "outputs": [],
   "source": [
    "YY"
   ]
  },
  {
   "cell_type": "markdown",
   "metadata": {},
   "source": [
    "### Ona viatgera cap a la dreta. x-> x-v t"
   ]
  },
  {
   "cell_type": "code",
   "execution_count": null,
   "metadata": {},
   "outputs": [],
   "source": [
    "YYright=YY.subs(x,x-v*t)"
   ]
  },
  {
   "cell_type": "code",
   "execution_count": null,
   "metadata": {},
   "outputs": [],
   "source": [
    "YYright"
   ]
  },
  {
   "cell_type": "markdown",
   "metadata": {},
   "source": [
    "Per fer gràfics, hem de donar valor a la velocitat\n",
    "v=1"
   ]
  },
  {
   "cell_type": "code",
   "execution_count": null,
   "metadata": {},
   "outputs": [],
   "source": [
    "YYright=YYright.subs(v,1)"
   ]
  },
  {
   "cell_type": "code",
   "execution_count": null,
   "metadata": {},
   "outputs": [],
   "source": [
    "YYright"
   ]
  },
  {
   "cell_type": "markdown",
   "metadata": {},
   "source": [
    "### Ona viatgera cap a l'esquerra x-> x+ vt"
   ]
  },
  {
   "cell_type": "code",
   "execution_count": null,
   "metadata": {},
   "outputs": [],
   "source": [
    "YYleft=YY.subs(x,x+v*t)"
   ]
  },
  {
   "cell_type": "code",
   "execution_count": null,
   "metadata": {},
   "outputs": [],
   "source": [
    "YYleft"
   ]
  },
  {
   "cell_type": "code",
   "execution_count": null,
   "metadata": {},
   "outputs": [],
   "source": [
    "YYleft=YYleft.subs(v,1)"
   ]
  },
  {
   "cell_type": "code",
   "execution_count": null,
   "metadata": {},
   "outputs": [],
   "source": [
    "YYleft"
   ]
  },
  {
   "cell_type": "markdown",
   "metadata": {},
   "source": [
    "# Principi de Superposició"
   ]
  },
  {
   "cell_type": "markdown",
   "metadata": {},
   "source": [
    "## Interferències"
   ]
  },
  {
   "cell_type": "markdown",
   "metadata": {},
   "source": [
    "Ona positiva que viatja cap a la dreta"
   ]
  },
  {
   "cell_type": "code",
   "execution_count": null,
   "metadata": {
    "scrolled": false
   },
   "outputs": [],
   "source": [
    "fig=plt.figure()\n",
    "## Dades de l'animacio\n",
    "XRANGE=np.linspace(-2,2,30)\n",
    "TIMERANGE=np.linspace(-4,4,10)\n",
    "FUNCTION=YYright\n",
    "XLIM=(min(XRANGE),max(XRANGE)) #x limits of the plots\n",
    "YLIM=(-2,2) #y limits of the plots\n",
    "##\n",
    "ax=plt.axes(xlim=XLIM,ylim=YLIM)\n",
    "line, = ax.plot([],[])\n",
    "plt.grid()\n",
    "anim1= animation.FuncAnimation(fig, #figure object\n",
    "                               update_function_x_t, #function to animate, in the form defined above\n",
    "                               fargs=(XRANGE,FUNCTION,line),\n",
    "                               frames=TIMERANGE,\n",
    "                               interval=200, #Interval time (in ms) between updates. Lower number for faster animations (default: 200 ms)\n",
    "                               blit=True,repeat=False\n",
    "                               )"
   ]
  },
  {
   "cell_type": "markdown",
   "metadata": {},
   "source": [
    "Ona positiva que viatja cap a l'esquerra"
   ]
  },
  {
   "cell_type": "code",
   "execution_count": null,
   "metadata": {},
   "outputs": [],
   "source": [
    "fig=plt.figure()\n",
    "## Dades de l'animacio\n",
    "XRANGE=np.linspace(-2,2,30)\n",
    "TIMERANGE=np.linspace(-4,4,10)\n",
    "FUNCTION=YYleft\n",
    "XLIM=(min(XRANGE),max(XRANGE)) #x limits of the plots\n",
    "YLIM=(-2,2) #y limits of the plots\n",
    "##\n",
    "ax=plt.axes(xlim=XLIM,ylim=YLIM)\n",
    "line, = ax.plot([],[])\n",
    "plt.grid()\n",
    "anim1= animation.FuncAnimation(fig, #figure object\n",
    "                               update_function_x_t, #function to animate, in the form defined above\n",
    "                               fargs=(XRANGE,FUNCTION,line),\n",
    "                               frames=TIMERANGE,\n",
    "                               interval=200, #Interval time (in ms) between updates. Lower number for faster animations (default: 200 ms)\n",
    "                               blit=True,repeat=False\n",
    "                               )"
   ]
  },
  {
   "cell_type": "markdown",
   "metadata": {},
   "source": [
    "Suma d'ones que viatgen cap a la dreta i cap a l'esquerra"
   ]
  },
  {
   "cell_type": "code",
   "execution_count": null,
   "metadata": {},
   "outputs": [],
   "source": [
    "YYsum=YYleft+YYright"
   ]
  },
  {
   "cell_type": "code",
   "execution_count": null,
   "metadata": {},
   "outputs": [],
   "source": [
    "YYsum"
   ]
  },
  {
   "cell_type": "code",
   "execution_count": null,
   "metadata": {},
   "outputs": [],
   "source": [
    "fig=plt.figure()\n",
    "## Dades de l'animacio\n",
    "XRANGE=np.linspace(-4,4,50)\n",
    "TIMERANGE=np.linspace(-10,10,31)\n",
    "FUNCTION=YYsum\n",
    "XLIM=(min(XRANGE),max(XRANGE)) #x limits of the plots\n",
    "YLIM=(-2,2) #y limits of the plots\n",
    "##\n",
    "ax=plt.axes(xlim=XLIM,ylim=YLIM)\n",
    "line, = ax.plot([],[])\n",
    "plt.grid()\n",
    "anim1= animation.FuncAnimation(fig, #figure object\n",
    "                               update_function_x_t, #function to animate, in the form defined above\n",
    "                               fargs=(XRANGE,FUNCTION,line),\n",
    "                               frames=TIMERANGE,\n",
    "                               interval=100, #Interval time (in ms) between updates. Lower number for faster animations (default: 200 ms)\n",
    "                               blit=True,repeat=True\n",
    "                               )"
   ]
  },
  {
   "cell_type": "markdown",
   "metadata": {},
   "source": [
    "Ona negativa que viatja cap a l'esquerra"
   ]
  },
  {
   "cell_type": "code",
   "execution_count": null,
   "metadata": {},
   "outputs": [],
   "source": [
    "fig=plt.figure()\n",
    "## Dades de l'animacio\n",
    "XRANGE=np.linspace(-4,4,50)\n",
    "TIMERANGE=np.linspace(-10,10,21)\n",
    "FUNCTION=-YYleft\n",
    "XLIM=(min(XRANGE),max(XRANGE)) #x limits of the plots\n",
    "YLIM=(-2,2) #y limits of the plots\n",
    "##\n",
    "ax=plt.axes(xlim=XLIM,ylim=YLIM)\n",
    "line, = ax.plot([],[])\n",
    "plt.grid()\n",
    "anim1= animation.FuncAnimation(fig, #figure object\n",
    "                               update_function_x_t, #function to animate, in the form defined above\n",
    "                               fargs=(XRANGE,FUNCTION,line),\n",
    "                               frames=TIMERANGE,\n",
    "                               interval=200, #Interval time (in ms) between updates. Lower number for faster animations (default: 200 ms)\n",
    "                               blit=True,repeat=False\n",
    "                               )"
   ]
  },
  {
   "cell_type": "markdown",
   "metadata": {},
   "source": [
    "Suma d'ones Positiva i Negativa que viatgen cap a la dreta i cap a l'esquerra"
   ]
  },
  {
   "cell_type": "code",
   "execution_count": null,
   "metadata": {},
   "outputs": [],
   "source": [
    "YYsubst=-YYleft+YYright"
   ]
  },
  {
   "cell_type": "code",
   "execution_count": null,
   "metadata": {},
   "outputs": [],
   "source": [
    "YYsubst"
   ]
  },
  {
   "cell_type": "code",
   "execution_count": null,
   "metadata": {},
   "outputs": [],
   "source": [
    "fig=plt.figure()\n",
    "## Dades de l'animacio\n",
    "XRANGE=np.linspace(-4,4,50)\n",
    "TIMERANGE=np.linspace(-10,10,31)\n",
    "FUNCTION=YYsubst\n",
    "XLIM=(min(XRANGE),max(XRANGE)) #x limits of the plots\n",
    "YLIM=(-2,2) #y limits of the plots\n",
    "##\n",
    "ax=plt.axes(xlim=XLIM,ylim=YLIM)\n",
    "line, = ax.plot([],[])\n",
    "plt.grid()\n",
    "anim1= animation.FuncAnimation(fig, #figure object\n",
    "                               update_function_x_t, #function to animate, in the form defined above\n",
    "                               fargs=(XRANGE,FUNCTION,line),\n",
    "                               frames=TIMERANGE,\n",
    "                               interval=100, #Interval time (in ms) between updates. Lower number for faster animations (default: 200 ms)\n",
    "                               blit=True,repeat=True\n",
    "                               )"
   ]
  },
  {
   "cell_type": "markdown",
   "metadata": {},
   "source": [
    "Suma de 2 ones harmòniques"
   ]
  },
  {
   "cell_type": "code",
   "execution_count": null,
   "metadata": {},
   "outputs": [],
   "source": [
    "YY1=sin(2*pi*(t-x))"
   ]
  },
  {
   "cell_type": "code",
   "execution_count": null,
   "metadata": {},
   "outputs": [],
   "source": [
    "YY1"
   ]
  },
  {
   "cell_type": "code",
   "execution_count": null,
   "metadata": {},
   "outputs": [],
   "source": [
    "fig=plt.figure()\n",
    "## Dades de l'animacio\n",
    "XRANGE=np.linspace(0,5,200)\n",
    "TIMERANGE=np.linspace(0,14,50)\n",
    "FUNCTION=YY1\n",
    "XLIM=(min(XRANGE),max(XRANGE)) #x limits of the plots\n",
    "YLIM=(-2,2) #y limits of the plots\n",
    "##\n",
    "ax=plt.axes(xlim=XLIM,ylim=YLIM)\n",
    "line, = ax.plot([],[])\n",
    "plt.grid()\n",
    "anim1= animation.FuncAnimation(fig, #figure object\n",
    "                               update_function_x_t, #function to animate, in the form defined above\n",
    "                               fargs=(XRANGE,FUNCTION,line),\n",
    "                               frames=TIMERANGE,\n",
    "                               interval=100, #Interval time (in ms) between updates. Lower number for faster animations (default: 200 ms)\n",
    "                               blit=True,repeat=True\n",
    "                               )"
   ]
  },
  {
   "cell_type": "code",
   "execution_count": null,
   "metadata": {},
   "outputs": [],
   "source": [
    "YY2=sin(2*pi/2 *(t-x)+3)"
   ]
  },
  {
   "cell_type": "code",
   "execution_count": null,
   "metadata": {},
   "outputs": [],
   "source": [
    "YY2"
   ]
  },
  {
   "cell_type": "code",
   "execution_count": null,
   "metadata": {},
   "outputs": [],
   "source": [
    "fig=plt.figure()\n",
    "## Dades de l'animacio\n",
    "XRANGE=np.linspace(0,5,200)\n",
    "TIMERANGE=np.linspace(0,14,50)\n",
    "FUNCTION=YY2\n",
    "XLIM=(min(XRANGE),max(XRANGE)) #x limits of the plots\n",
    "YLIM=(-2,2) #y limits of the plots\n",
    "##\n",
    "ax=plt.axes(xlim=XLIM,ylim=YLIM)\n",
    "line, = ax.plot([],[])\n",
    "plt.grid()\n",
    "anim1= animation.FuncAnimation(fig, #figure object\n",
    "                               update_function_x_t, #function to animate, in the form defined above\n",
    "                               fargs=(XRANGE,FUNCTION,line),\n",
    "                               frames=TIMERANGE,\n",
    "                               interval=100, #Interval time (in ms) between updates. Lower number for faster animations (default: 200 ms)\n",
    "                               blit=True,repeat=True\n",
    "                               )"
   ]
  },
  {
   "cell_type": "code",
   "execution_count": null,
   "metadata": {},
   "outputs": [],
   "source": [
    "YYinterf=YY1+YY2"
   ]
  },
  {
   "cell_type": "code",
   "execution_count": null,
   "metadata": {},
   "outputs": [],
   "source": [
    "YYinterf"
   ]
  },
  {
   "cell_type": "code",
   "execution_count": null,
   "metadata": {},
   "outputs": [],
   "source": [
    "fig=plt.figure()\n",
    "## Dades de l'animacio\n",
    "XRANGE=np.linspace(0,5,200)\n",
    "TIMERANGE=np.linspace(0,14,50)\n",
    "FUNCTION=YYinterf\n",
    "XLIM=(min(XRANGE),max(XRANGE)) #x limits of the plots\n",
    "YLIM=(-2,2) #y limits of the plots\n",
    "##\n",
    "ax=plt.axes(xlim=XLIM,ylim=YLIM)\n",
    "line, = ax.plot([],[])\n",
    "plt.grid()\n",
    "anim1= animation.FuncAnimation(fig, #figure object\n",
    "                               update_function_x_t, #function to animate, in the form defined above\n",
    "                               fargs=(XRANGE,FUNCTION,line),\n",
    "                               frames=TIMERANGE,\n",
    "                               interval=100, #Interval time (in ms) between updates. Lower number for faster animations (default: 200 ms)\n",
    "                               blit=True,repeat=True\n",
    "                               )"
   ]
  },
  {
   "cell_type": "markdown",
   "metadata": {},
   "source": [
    "### Interferència totalment constructiva (desfasament = 2 Pi)"
   ]
  },
  {
   "cell_type": "code",
   "execution_count": null,
   "metadata": {},
   "outputs": [],
   "source": [
    "YYcons=sin(2*pi*(t-x))+sin(2*pi*(t-x)+2*pi)"
   ]
  },
  {
   "cell_type": "code",
   "execution_count": null,
   "metadata": {},
   "outputs": [],
   "source": [
    "fig=plt.figure()\n",
    "## Dades de l'animacio\n",
    "XRANGE=np.linspace(0,5,200)\n",
    "TIMERANGE=np.linspace(0,14,50)\n",
    "FUNCTION=YYcons\n",
    "XLIM=(min(XRANGE),max(XRANGE)) #x limits of the plots\n",
    "YLIM=(-2,2) #y limits of the plots\n",
    "##\n",
    "ax=plt.axes(xlim=XLIM,ylim=YLIM)\n",
    "line, = ax.plot([],[])\n",
    "plt.grid()\n",
    "anim1= animation.FuncAnimation(fig, #figure object\n",
    "                               update_function_x_t, #function to animate, in the form defined above\n",
    "                               fargs=(XRANGE,FUNCTION,line),\n",
    "                               frames=TIMERANGE,\n",
    "                               interval=100, #Interval time (in ms) between updates. Lower number for faster animations (default: 200 ms)\n",
    "                               blit=True,repeat=True\n",
    "                               )"
   ]
  },
  {
   "cell_type": "code",
   "execution_count": null,
   "metadata": {},
   "outputs": [],
   "source": [
    "YYcons"
   ]
  },
  {
   "cell_type": "markdown",
   "metadata": {},
   "source": [
    "### Interferència totalment destructiva (desfasament = Pi)"
   ]
  },
  {
   "cell_type": "code",
   "execution_count": null,
   "metadata": {},
   "outputs": [],
   "source": [
    "YYdes=sin(2*pi*(t-x))+sin(2*pi*(t-x)+pi)"
   ]
  },
  {
   "cell_type": "code",
   "execution_count": null,
   "metadata": {},
   "outputs": [],
   "source": [
    "fig=plt.figure()\n",
    "## Dades de l'animacio\n",
    "XRANGE=np.linspace(0,5,100)\n",
    "TIMERANGE=np.linspace(0,14,50)\n",
    "FUNCTION=YYdes\n",
    "XLIM=(min(XRANGE),max(XRANGE)) #x limits of the plots\n",
    "YLIM=(-2,2) #y limits of the plots\n",
    "##\n",
    "ax=plt.axes(xlim=XLIM,ylim=YLIM)\n",
    "line, = ax.plot([],[])\n",
    "plt.grid()\n",
    "anim1= animation.FuncAnimation(fig, #figure object\n",
    "                               update_function_x_t, #function to animate, in the form defined above\n",
    "                               fargs=(XRANGE,FUNCTION,line),\n",
    "                               frames=TIMERANGE,\n",
    "                               interval=100, #Interval time (in ms) between updates. Lower number for faster animations (default: 200 ms)\n",
    "                               blit=True,repeat=True\n",
    "                               )"
   ]
  },
  {
   "cell_type": "code",
   "execution_count": null,
   "metadata": {},
   "outputs": [],
   "source": [
    "YYdes"
   ]
  },
  {
   "cell_type": "markdown",
   "metadata": {},
   "source": [
    "### Interferència parcialment destructiva (desfasament =3 = 0.995 Pi)"
   ]
  },
  {
   "cell_type": "code",
   "execution_count": null,
   "metadata": {},
   "outputs": [],
   "source": [
    "YYdes2=sin(2*pi*(t-x))+sin(2*pi*(t-x)+3)"
   ]
  },
  {
   "cell_type": "code",
   "execution_count": null,
   "metadata": {},
   "outputs": [],
   "source": [
    "fig=plt.figure()\n",
    "## Dades de l'animacio\n",
    "XRANGE=np.linspace(0,5,200)\n",
    "TIMERANGE=np.linspace(0,14,50)\n",
    "FUNCTION=YYdes2\n",
    "XLIM=(min(XRANGE),max(XRANGE)) #x limits of the plots\n",
    "YLIM=(-2,2) #y limits of the plots\n",
    "##\n",
    "ax=plt.axes(xlim=XLIM,ylim=YLIM)\n",
    "line, = ax.plot([],[])\n",
    "plt.grid()\n",
    "anim1= animation.FuncAnimation(fig, #figure object\n",
    "                               update_function_x_t, #function to animate, in the form defined above\n",
    "                               fargs=(XRANGE,FUNCTION,line),\n",
    "                               frames=TIMERANGE,\n",
    "                               interval=100, #Interval time (in ms) between updates. Lower number for faster animations (default: 200 ms)\n",
    "                               blit=True,repeat=True\n",
    "                               )"
   ]
  },
  {
   "cell_type": "code",
   "execution_count": null,
   "metadata": {},
   "outputs": [],
   "source": [
    "YYdes2"
   ]
  },
  {
   "cell_type": "markdown",
   "metadata": {},
   "source": [
    "### Interferència parcialment constructiva (desfasament =2)"
   ]
  },
  {
   "cell_type": "code",
   "execution_count": null,
   "metadata": {},
   "outputs": [],
   "source": [
    "YYdes3=sin(2*pi*(t-x))+sin(2*pi*(t-x)+2)"
   ]
  },
  {
   "cell_type": "code",
   "execution_count": null,
   "metadata": {},
   "outputs": [],
   "source": [
    "YYdes3"
   ]
  },
  {
   "cell_type": "code",
   "execution_count": null,
   "metadata": {},
   "outputs": [],
   "source": [
    "fig=plt.figure()\n",
    "## Dades de l'animacio\n",
    "XRANGE=np.linspace(0,5,200)\n",
    "TIMERANGE=np.linspace(0,14,50)\n",
    "FUNCTION=YYdes3\n",
    "XLIM=(min(XRANGE),max(XRANGE)) #x limits of the plots\n",
    "YLIM=(-2,2) #y limits of the plots\n",
    "##\n",
    "ax=plt.axes(xlim=XLIM,ylim=YLIM)\n",
    "line, = ax.plot([],[])\n",
    "plt.grid()\n",
    "anim1= animation.FuncAnimation(fig, #figure object\n",
    "                               update_function_x_t, #function to animate, in the form defined above\n",
    "                               fargs=(XRANGE,FUNCTION,line),\n",
    "                               frames=TIMERANGE,\n",
    "                               interval=100, #Interval time (in ms) between updates. Lower number for faster animations (default: 200 ms)\n",
    "                               blit=True,repeat=True\n",
    "                               )"
   ]
  },
  {
   "cell_type": "markdown",
   "metadata": {},
   "source": [
    "### Interferència destructiva (desfasament =3 Pi)"
   ]
  },
  {
   "cell_type": "code",
   "execution_count": null,
   "metadata": {},
   "outputs": [],
   "source": [
    "YYdes4=sin(2*pi*(t-x))+sin(2*pi*(t-x)+3*pi)"
   ]
  },
  {
   "cell_type": "code",
   "execution_count": null,
   "metadata": {},
   "outputs": [],
   "source": [
    "fig=plt.figure()\n",
    "## Dades de l'animacio\n",
    "XRANGE=np.linspace(0,5,200)\n",
    "TIMERANGE=np.linspace(0,14,50)\n",
    "FUNCTION=YYdes4\n",
    "XLIM=(min(XRANGE),max(XRANGE)) #x limits of the plots\n",
    "YLIM=(-2,2) #y limits of the plots\n",
    "##\n",
    "ax=plt.axes(xlim=XLIM,ylim=YLIM)\n",
    "line, = ax.plot([],[])\n",
    "plt.grid()\n",
    "anim1= animation.FuncAnimation(fig, #figure object\n",
    "                               update_function_x_t, #function to animate, in the form defined above\n",
    "                               fargs=(XRANGE,FUNCTION,line),\n",
    "                               frames=TIMERANGE,\n",
    "                               interval=100, #Interval time (in ms) between updates. Lower number for faster animations (default: 200 ms)\n",
    "                               blit=True,repeat=True\n",
    "                               )"
   ]
  },
  {
   "cell_type": "markdown",
   "metadata": {},
   "source": [
    "### Interferència ones diferents Freqüència i Longituds d'ona"
   ]
  },
  {
   "cell_type": "code",
   "execution_count": null,
   "metadata": {},
   "outputs": [],
   "source": [
    "YYdes5=sin(2*pi*(t-x))+sin(2*pi*1/3.5*(t-x)+3*pi)"
   ]
  },
  {
   "cell_type": "code",
   "execution_count": null,
   "metadata": {},
   "outputs": [],
   "source": [
    "fig=plt.figure()\n",
    "## Dades de l'animacio\n",
    "XRANGE=np.linspace(0,5,200)\n",
    "TIMERANGE=np.linspace(0,14,50)\n",
    "FUNCTION=YYdes5\n",
    "XLIM=(min(XRANGE),max(XRANGE)) #x limits of the plots\n",
    "YLIM=(-2,2) #y limits of the plots\n",
    "##\n",
    "ax=plt.axes(xlim=XLIM,ylim=YLIM)\n",
    "line, = ax.plot([],[])\n",
    "plt.grid()\n",
    "anim1= animation.FuncAnimation(fig, #figure object\n",
    "                               update_function_x_t, #function to animate, in the form defined above\n",
    "                               fargs=(XRANGE,FUNCTION,line),\n",
    "                               frames=TIMERANGE,\n",
    "                               interval=100, #Interval time (in ms) between updates. Lower number for faster animations (default: 200 ms)\n",
    "                               blit=True,repeat=True\n",
    "                               )"
   ]
  }
 ],
 "metadata": {
  "kernelspec": {
   "display_name": "Python 3 (ipykernel)",
   "language": "python",
   "name": "python3"
  },
  "language_info": {
   "codemirror_mode": {
    "name": "ipython",
    "version": 3
   },
   "file_extension": ".py",
   "mimetype": "text/x-python",
   "name": "python",
   "nbconvert_exporter": "python",
   "pygments_lexer": "ipython3",
   "version": "3.11.2"
  }
 },
 "nbformat": 4,
 "nbformat_minor": 2
}
