{
 "cells": [
  {
   "cell_type": "markdown",
   "metadata": {},
   "source": [
    "# Moviment Circular Uniforme"
   ]
  },
  {
   "cell_type": "markdown",
   "metadata": {},
   "source": [
    "### Representació gràfica de: trajectòria, velocitat, acceleració"
   ]
  },
  {
   "cell_type": "markdown",
   "metadata": {},
   "source": [
    "Preparat per l'assignatura:\n",
    "\n",
    "Fonaments d'Ones Fluids i Termodinàmica\n",
    "\n",
    "Enginyeria Electrònica de Telecomunicacions\n",
    "\n",
    "Facultat de Física, Universitat de Barcelona"
   ]
  },
  {
   "cell_type": "markdown",
   "metadata": {},
   "source": [
    "(c) Jaume Guasch 2023, \n",
    "Llicència: Creative Commons \n",
    "CC-BY-NC-SA 4.0\n",
    "This work is licensed under CC BY-NC-SA 4.0 https://creativecommons.org/licenses/by-nc-sa/4.0/"
   ]
  },
  {
   "cell_type": "markdown",
   "metadata": {},
   "source": [
    "# Instruccions per entregar el treball"
   ]
  },
  {
   "cell_type": "markdown",
   "metadata": {},
   "source": [
    "1.- Escriu els teus nom i cognoms. Fes doble-clic a la cel·la de sota per editar-la, i escriu-hi el teus nom i cognoms"
   ]
  },
  {
   "cell_type": "markdown",
   "metadata": {},
   "source": [
    "**Cognoms, nom:** "
   ]
  },
  {
   "cell_type": "markdown",
   "metadata": {},
   "source": [
    "2.- Avalua **totes** les cel·les del document. Per avaluar una cel·la fes \"Majúscules-retorn\" o clica al botó \"Run\" del menú superior."
   ]
  },
  {
   "cell_type": "markdown",
   "metadata": {},
   "source": [
    "Opcionalment: Pots mirar de variar algun dels paràmetres de la simulació. **Compte!**: si varies el paràmetres probablement hauràs de canviar els límits dels gràfics (i potser algun altre paràmetre)."
   ]
  },
  {
   "cell_type": "markdown",
   "metadata": {},
   "source": [
    "3.- Guarda el resultat (amb tots els gràfics) en un document **PDF** i baixa'l al teu dispositiu. Utilitza el menú **Imprimir** del teu navegador"
   ]
  },
  {
   "cell_type": "markdown",
   "metadata": {},
   "source": [
    "4.- Entrega el PDF generat en la tasca corresponent del campus virtual"
   ]
  },
  {
   "cell_type": "markdown",
   "metadata": {},
   "source": [
    "Opcionalment: Pots baixar-te al teu ordinador el document com un notebook de python o com un programa python utilitzant el menú \"File->Download as ...\" del notebook. Després pots executar el programa al teu ordinador."
   ]
  },
  {
   "cell_type": "markdown",
   "metadata": {},
   "source": [
    "**NOTA**: el programa online **no guarda l'estat** has de fer-ho tot seguit en una sola sessió."
   ]
  },
  {
   "cell_type": "markdown",
   "metadata": {},
   "source": [
    "## Introducció: importar biblioteques i definicions"
   ]
  },
  {
   "cell_type": "code",
   "execution_count": null,
   "metadata": {},
   "outputs": [],
   "source": [
    "from sympy import *"
   ]
  },
  {
   "cell_type": "code",
   "execution_count": null,
   "metadata": {},
   "outputs": [],
   "source": [
    "import matplotlib.pyplot as plt"
   ]
  },
  {
   "cell_type": "code",
   "execution_count": null,
   "metadata": {},
   "outputs": [],
   "source": [
    "# Animacions\n",
    "import matplotlib.animation as animation"
   ]
  },
  {
   "cell_type": "code",
   "execution_count": null,
   "metadata": {},
   "outputs": [],
   "source": [
    "# Necessitem el numpy per fer llistats de temps que NO siguin enters\n",
    "import numpy as np"
   ]
  },
  {
   "cell_type": "markdown",
   "metadata": {},
   "source": [
    "**ATENCIÓ**\n",
    "Això és necessari per mostrar les animacions dins el notebook.\n",
    "Noteu que **ÉS CONVENIENT PARAR** el gràfic després de veure'l"
   ]
  },
  {
   "cell_type": "code",
   "execution_count": null,
   "metadata": {},
   "outputs": [],
   "source": [
    "# Aquest entorn és només per entorn \"jupyter notebook\", \n",
    "# per posar els gràfics dins el mateix notebook\n",
    "# Comentar aquesta línia en altres entorns:\n",
    "########\n",
    "# Per utlitzar amb entorn online a mybinder.org:\n",
    "%matplotlib widget\n",
    "########\n",
    "# Si s'utilitza en un entorn \"jupyter notebook\" localment a l'ordinador\n",
    "# cal comentar la linia anterior, i descomentar la següent\n",
    "#%matplotlib notebook"
   ]
  },
  {
   "cell_type": "code",
   "execution_count": null,
   "metadata": {},
   "outputs": [],
   "source": [
    "init_printing(use_unicode=True)"
   ]
  },
  {
   "cell_type": "code",
   "execution_count": null,
   "metadata": {},
   "outputs": [],
   "source": [
    "t=symbols('t')"
   ]
  },
  {
   "cell_type": "markdown",
   "metadata": {},
   "source": [
    "## posició"
   ]
  },
  {
   "cell_type": "code",
   "execution_count": null,
   "metadata": {},
   "outputs": [],
   "source": [
    "x=100*cos(2*pi/10*t)"
   ]
  },
  {
   "cell_type": "code",
   "execution_count": null,
   "metadata": {},
   "outputs": [],
   "source": [
    "x"
   ]
  },
  {
   "cell_type": "code",
   "execution_count": null,
   "metadata": {},
   "outputs": [],
   "source": [
    "y=100*sin(2*pi/10*t)"
   ]
  },
  {
   "cell_type": "code",
   "execution_count": null,
   "metadata": {},
   "outputs": [],
   "source": [
    "y"
   ]
  },
  {
   "cell_type": "markdown",
   "metadata": {},
   "source": [
    "## velocitat\n",
    "\n",
    "La derivada de la posició \"diff\""
   ]
  },
  {
   "cell_type": "code",
   "execution_count": null,
   "metadata": {},
   "outputs": [],
   "source": [
    "vx=diff(x,t)"
   ]
  },
  {
   "cell_type": "code",
   "execution_count": null,
   "metadata": {},
   "outputs": [],
   "source": [
    "vx"
   ]
  },
  {
   "cell_type": "code",
   "execution_count": null,
   "metadata": {},
   "outputs": [],
   "source": [
    "vy=diff(y,t)\n",
    "vy"
   ]
  },
  {
   "cell_type": "markdown",
   "metadata": {},
   "source": [
    "## acceleració\n",
    "\n",
    "La derivada de la velocitat"
   ]
  },
  {
   "cell_type": "code",
   "execution_count": null,
   "metadata": {},
   "outputs": [],
   "source": [
    "ax=diff(vx,t)\n",
    "ax"
   ]
  },
  {
   "cell_type": "code",
   "execution_count": null,
   "metadata": {},
   "outputs": [],
   "source": [
    "ay=diff(vy,t)\n",
    "ay"
   ]
  },
  {
   "cell_type": "markdown",
   "metadata": {},
   "source": [
    "## Paràmetres del moviment"
   ]
  },
  {
   "cell_type": "markdown",
   "metadata": {},
   "source": [
    "Fixem-nos que:"
   ]
  },
  {
   "cell_type": "code",
   "execution_count": null,
   "metadata": {},
   "outputs": [],
   "source": [
    "# Velocitat angular\n",
    "Omega=2*pi/10"
   ]
  },
  {
   "cell_type": "code",
   "execution_count": null,
   "metadata": {},
   "outputs": [],
   "source": [
    "Omega"
   ]
  },
  {
   "cell_type": "code",
   "execution_count": null,
   "metadata": {},
   "outputs": [],
   "source": [
    "# Periode\n",
    "Tper=2*pi/Omega"
   ]
  },
  {
   "cell_type": "code",
   "execution_count": null,
   "metadata": {
    "scrolled": true
   },
   "outputs": [],
   "source": [
    "Tper"
   ]
  },
  {
   "cell_type": "markdown",
   "metadata": {},
   "source": [
    "## Gràfics\n",
    "### Trajectoria: gràfic de (x,y)"
   ]
  },
  {
   "cell_type": "code",
   "execution_count": null,
   "metadata": {},
   "outputs": [],
   "source": [
    "plotting.plot_parametric((x,y),(t,0,10),xlim=(-160,160),ylim=(-130,130),show=True)"
   ]
  },
  {
   "cell_type": "markdown",
   "metadata": {},
   "source": [
    "### Velocitat Horitzontal vx"
   ]
  },
  {
   "cell_type": "code",
   "execution_count": null,
   "metadata": {},
   "outputs": [],
   "source": [
    "# Utilitzem el numpy, per fer una llista de temps amb nombres no enters\n",
    "temps=np.linspace(0,10,16,endpoint=False)"
   ]
  },
  {
   "cell_type": "markdown",
   "metadata": {},
   "source": [
    "Problemes del PYTHON:\n",
    "* Al fer un \"subs\" sobre una variable, s'obté un valor numèric de SYMPY: type sympy.core.numbers.Float\n",
    "* PERÒ per utilitzar el \"quiver\" s'han d'utilitzar tipus numerics de PYTHON: type int o float, etc.\n",
    "* després de substituir, cal convertir els tipus a \"float\""
   ]
  },
  {
   "cell_type": "code",
   "execution_count": null,
   "metadata": {},
   "outputs": [],
   "source": [
    "# posem unes coordenades per fer una trajectoria més suau\n",
    "temps2=np.linspace(0,10,100)\n",
    "XTRAJ=[float(x.subs(t,i)) for i in temps2]\n",
    "YTRAJ=[float(y.subs(t,i)) for i in temps2]"
   ]
  },
  {
   "cell_type": "code",
   "execution_count": null,
   "metadata": {},
   "outputs": [],
   "source": [
    "XPOS=[float(x.subs(t,i)) for i in temps]\n",
    "YPOS=[float(y.subs(t,i)) for i in temps]\n",
    "VX=[float(vx.subs(t,i)) for i in temps]\n",
    "VY=[float(vy.subs(t,i)) for i in temps]\n",
    "ZERO=[0 for i in temps]"
   ]
  },
  {
   "cell_type": "code",
   "execution_count": null,
   "metadata": {},
   "outputs": [],
   "source": [
    "myfig , myax = plt.subplots()\n",
    "myax.quiver( XPOS, YPOS, VX, ZERO,color='g',angles='xy',scale_units='xy',scale=1)\n",
    "myax.plot(XTRAJ,YTRAJ)\n",
    "myax.set(xlim=(-160,160),ylim=(-130,130))\n",
    "plt.show()\n",
    "plt.grid()"
   ]
  },
  {
   "cell_type": "markdown",
   "metadata": {},
   "source": [
    "### Velocitat vertical vy"
   ]
  },
  {
   "cell_type": "code",
   "execution_count": null,
   "metadata": {},
   "outputs": [],
   "source": [
    "myfig , myax = plt.subplots()\n",
    "myax.quiver( XPOS, YPOS, ZERO, VY,color='g',angles='xy',scale_units='xy',scale=1)\n",
    "myax.plot(XTRAJ,YTRAJ)\n",
    "myax.set(xlim=(-160,160),ylim=(-130,130))\n",
    "plt.show()\n",
    "plt.grid()"
   ]
  },
  {
   "cell_type": "markdown",
   "metadata": {},
   "source": [
    "### Velocitat total"
   ]
  },
  {
   "cell_type": "code",
   "execution_count": null,
   "metadata": {},
   "outputs": [],
   "source": [
    "myfig , myax = plt.subplots()\n",
    "myax.quiver( XPOS, YPOS, VX, VY,color='b',angles='xy',scale_units='xy',scale=1)\n",
    "myax.plot(XTRAJ,YTRAJ)\n",
    "myax.set(xlim=(-160,160),ylim=(-130,130))\n",
    "plt.show()\n",
    "plt.grid()"
   ]
  },
  {
   "cell_type": "code",
   "execution_count": null,
   "metadata": {},
   "outputs": [],
   "source": [
    "myfig , myax = plt.subplots()\n",
    "myax.quiver( XPOS, YPOS, VX, VY,color='b',angles='xy',scale_units='xy',scale=1)\n",
    "myax.quiver(XPOS, YPOS, ZERO, VY,color='g',angles='xy',scale_units='xy',scale=1)\n",
    "myax.quiver( XPOS, YPOS, VX, ZERO,color='g',angles='xy',scale_units='xy',scale=1)\n",
    "myax.plot(XTRAJ,YTRAJ)\n",
    "myax.set(xlim=(-160,160),ylim=(-130,130))\n",
    "plt.show()\n",
    "plt.grid()"
   ]
  },
  {
   "cell_type": "code",
   "execution_count": null,
   "metadata": {},
   "outputs": [],
   "source": [
    "myfig , myax = plt.subplots()\n",
    "myax.quiver( XPOS, YPOS, VX, VY,color='b',angles='xy',scale_units='xy',scale=1)\n",
    "myax.quiver(XPOS, YPOS, ZERO, VY,color='g',angles='xy',scale_units='xy',scale=1)\n",
    "myax.quiver( XPOS, YPOS, VX, ZERO,color='g',angles='xy',scale_units='xy',scale=1)\n",
    "myax.set(xlim=(-160,160),ylim=(-130,130))\n",
    "plt.show()\n",
    "plt.grid()"
   ]
  },
  {
   "cell_type": "markdown",
   "metadata": {},
   "source": [
    "### Acceleració"
   ]
  },
  {
   "cell_type": "code",
   "execution_count": null,
   "metadata": {},
   "outputs": [],
   "source": [
    "AX=[float(ax.subs(t,i)) for i in temps]\n",
    "AY=[float(ay.subs(t,i)) for i in temps]"
   ]
  },
  {
   "cell_type": "markdown",
   "metadata": {},
   "source": [
    "#### Acceleració x"
   ]
  },
  {
   "cell_type": "code",
   "execution_count": null,
   "metadata": {},
   "outputs": [],
   "source": [
    "myfig , myax = plt.subplots()\n",
    "myax.quiver(XPOS,YPOS,AX,ZERO,color='orange',angles='xy',scale_units='xy',scale=1)\n",
    "myax.plot(XTRAJ,YTRAJ)\n",
    "myax.set(xlim=(-160,160),ylim=(-130,130))\n",
    "plt.show()\n",
    "plt.grid()"
   ]
  },
  {
   "cell_type": "markdown",
   "metadata": {},
   "source": [
    "#### Acceleració y"
   ]
  },
  {
   "cell_type": "code",
   "execution_count": null,
   "metadata": {},
   "outputs": [],
   "source": [
    "myfig , myax = plt.subplots()\n",
    "myax.quiver(XPOS,YPOS,ZERO,AY,color='orange',angles='xy',scale_units='xy',scale=1)\n",
    "myax.plot(XTRAJ,YTRAJ)\n",
    "myax.set(xlim=(-160,160),ylim=(-130,130))\n",
    "plt.show()\n",
    "plt.grid()"
   ]
  },
  {
   "cell_type": "markdown",
   "metadata": {},
   "source": [
    "#### Acceleració total"
   ]
  },
  {
   "cell_type": "code",
   "execution_count": null,
   "metadata": {},
   "outputs": [],
   "source": [
    "myfig , myax = plt.subplots()\n",
    "myax.quiver(XPOS,YPOS,AX,AY,color='red',angles='xy',scale_units='xy',scale=1)\n",
    "myax.quiver(XPOS,YPOS,ZERO,AY,color='orange',angles='xy',scale_units='xy',scale=1)\n",
    "myax.quiver(XPOS,YPOS,AX,ZERO,color='orange',angles='xy',scale_units='xy',scale=1)\n",
    "myax.plot(XTRAJ,YTRAJ)\n",
    "myax.set(xlim=(-160,160),ylim=(-130,130))\n",
    "plt.show()\n",
    "plt.grid()"
   ]
  },
  {
   "cell_type": "code",
   "execution_count": null,
   "metadata": {},
   "outputs": [],
   "source": [
    "myfig , myax = plt.subplots()\n",
    "myax.quiver(XPOS,YPOS,AX,AY,color='red',angles='xy',scale_units='xy',scale=1)\n",
    "myax.plot(XTRAJ,YTRAJ)\n",
    "myax.set(xlim=(-160,160),ylim=(-130,130))\n",
    "plt.show()\n",
    "plt.grid()"
   ]
  },
  {
   "cell_type": "markdown",
   "metadata": {},
   "source": [
    "### Trajectoria + velocitat + acceleració"
   ]
  },
  {
   "cell_type": "code",
   "execution_count": null,
   "metadata": {},
   "outputs": [],
   "source": [
    "myfig , myax = plt.subplots()\n",
    "myax.quiver( XPOS, YPOS, VX, VY,color='b',angles='xy',scale_units='xy',scale=1)\n",
    "myax.quiver(XPOS, YPOS, ZERO, VY,color='g',angles='xy',scale_units='xy',scale=1)\n",
    "myax.quiver( XPOS, YPOS, VX, ZERO,color='g',angles='xy',scale_units='xy',scale=1)\n",
    "myax.quiver(XPOS,YPOS,AX,AY,color='red',angles='xy',scale_units='xy',scale=1)\n",
    "myax.plot(XTRAJ,YTRAJ)\n",
    "myax.set(xlim=(-160,160),ylim=(-130,130))\n",
    "plt.show()"
   ]
  },
  {
   "cell_type": "markdown",
   "metadata": {},
   "source": [
    "## Animació"
   ]
  },
  {
   "cell_type": "markdown",
   "metadata": {},
   "source": [
    "#### La funció per actualitzar la velocitat"
   ]
  },
  {
   "cell_type": "markdown",
   "metadata": {},
   "source": [
    "Els punts on s'han de posar els vectors ens venen fixats quan es crea el grafic (quiver). El que hem de fer es posar els punts de la trajectoria, i anar-los actualitzant.\n",
    "Com que ja els tenim calculats, podem utilitzar-los"
   ]
  },
  {
   "cell_type": "markdown",
   "metadata": {},
   "source": [
    "Si volem més punts, que siguin float, no podem utilitzar el range. Incorporem el numpy, i recalculem la trajectoria i els vectors"
   ]
  },
  {
   "cell_type": "code",
   "execution_count": null,
   "metadata": {},
   "outputs": [],
   "source": [
    "temps=np.linspace(0,10,100)\n",
    "XPOS=[float(x.subs(t,i)) for i in temps]\n",
    "YPOS=[float(y.subs(t,i)) for i in temps]\n",
    "VX=[float(vx.subs(t,i)) for i in temps]\n",
    "VY=[float(vy.subs(t,i)) for i in temps]\n",
    "AX=[float(ax.subs(t,i)) for i in temps]\n",
    "AY=[float(ay.subs(t,i)) for i in temps]\n",
    "ZERO=[0 for i in temps]"
   ]
  },
  {
   "cell_type": "code",
   "execution_count": null,
   "metadata": {},
   "outputs": [],
   "source": [
    "def update_vector(index, Q, VX, VY):\n",
    "    '''update_vector(index, Q, VX, VY)\n",
    "    function used to animate a vector (Quiver).\n",
    "    index = integer : Input. Position in the Quiver that will be updated\n",
    "    Q = Quiver : Output. Quiver (vector space) that will be updated\n",
    "    VX = Array of floats: Array containing the x-component of the vector at all array positions \n",
    "    VX = Array of floats: Array containing the y-component of the vector at all array positions \n",
    "    It returns a Quiver (vector space) which contains 0 at all points, except at the point \"index\"\n",
    "    '''  \n",
    "    # create a list of zeros, the size of the quiver\n",
    "    MYVX=[0]*len(VX)\n",
    "    MYVY=[0]*len(VY)\n",
    "    # take the \"index\" value, and put in in the quiver\n",
    "    MYVX[index]=VX[index]\n",
    "    MYVY[index]=VY[index]\n",
    "    Q.set_UVC(MYVX,MYVY)\n",
    "    #Q.X=array([X])\n",
    "    #Q.Y=array([Y])\n",
    "    #Q.remove()\n",
    "    #Q=myax.quiver(X,Y,VX,VY,color='b',angles='xy',scale_units='xy',scale=1)\n",
    "    return Q,"
   ]
  },
  {
   "cell_type": "code",
   "execution_count": null,
   "metadata": {},
   "outputs": [],
   "source": [
    "fig, myax=plt.subplots(1,1)\n",
    "Q = myax.quiver(XPOS,YPOS,ZERO,ZERO,color='b',angles='xy',scale_units='xy',scale=1, minshaft = 1, minlength=0)\n",
    "myax.set_xlim(-160,160)\n",
    "myax.set_ylim(-130,130)\n",
    "framenumbers=len(temps) #We are indexing the position of the vector, this is the total number of elements.\n",
    "animv=animation.FuncAnimation(fig, #figure object\n",
    "                              update_vector, #function to animate, in the form defined above\n",
    "                              fargs=(Q,VX,VY), #arguments to the function update_vector\n",
    "                              frames=framenumbers, #We are updating a natural index, we can just give the last value\n",
    "                              interval=20, #Interval time (in ms) between updates. Lower number for faster animations (default: 200 ms)\n",
    "                              blit=True,repeat=True)"
   ]
  },
  {
   "cell_type": "markdown",
   "metadata": {},
   "source": [
    "#### Velocitat x"
   ]
  },
  {
   "cell_type": "markdown",
   "metadata": {},
   "source": [
    "Utilitzem la mateixa funció d'abans, però posant VY=0"
   ]
  },
  {
   "cell_type": "code",
   "execution_count": null,
   "metadata": {},
   "outputs": [],
   "source": [
    "fig, myax=plt.subplots(1,1)\n",
    "Q = myax.quiver(XPOS,YPOS,ZERO,ZERO,color='g',angles='xy',scale_units='xy',scale=1, minshaft = 1, minlength=0)\n",
    "myax.set_xlim(-160,160)\n",
    "myax.set_ylim(-130,130) #We are indexing the position of the vector, this is the total number of elements.\n",
    "framenumbers=len(temps) \n",
    "animv=animation.FuncAnimation(fig, #figure object\n",
    "                              update_vector, #function to animate, in the form defined above\n",
    "                              fargs=(Q,VX,ZERO), #arguments to the function update_vector. Use ZERO for the y-component\n",
    "                              frames=framenumbers, #We are updating a natural index, we can just give the last value\n",
    "                              interval=20, #Interval time (in ms) between updates. Lower number for faster animations (default: 200 ms)\n",
    "                              blit=True,repeat=True)"
   ]
  },
  {
   "cell_type": "markdown",
   "metadata": {},
   "source": [
    "#### Velocitat y"
   ]
  },
  {
   "cell_type": "markdown",
   "metadata": {},
   "source": [
    "Utilitzem la mateixa funció d'abans, però posant VX=0"
   ]
  },
  {
   "cell_type": "code",
   "execution_count": null,
   "metadata": {},
   "outputs": [],
   "source": [
    "fig, myax=plt.subplots(1,1)\n",
    "Q = myax.quiver(XPOS,YPOS,ZERO,ZERO,color='g',angles='xy',scale_units='xy',scale=1, minshaft = 1, minlength=0)\n",
    "myax.set_xlim(-160,160)\n",
    "myax.set_ylim(-130,130)\n",
    "framenumbers=len(temps) #We are indexing the position of the vector, this is the total number of elements.\n",
    "animv=animation.FuncAnimation(fig, #figure object\n",
    "                              update_vector, #function to animate, in the form defined above\n",
    "                              fargs=(Q,ZERO,VY), #arguments to the function update_vector. Use ZERO for the x-component\n",
    "                              frames=framenumbers, #We are updating a natural index, we can just give the last value\n",
    "                              interval=20, #Interval time (in ms) between updates. Lower number for faster animations (default: 200 ms)\n",
    "                              blit=True,repeat=True)"
   ]
  },
  {
   "cell_type": "markdown",
   "metadata": {},
   "source": [
    "#### Velocitat total + components"
   ]
  },
  {
   "cell_type": "code",
   "execution_count": null,
   "metadata": {},
   "outputs": [],
   "source": [
    "def update_vector_vx_vy(index, Q, QX, QY, VX,VY):\n",
    "    '''update_vector_vx_vy(index, Q, QX, QY, VX, VY)\n",
    "    function used to animate a vector (Quiver).\n",
    "    It returns three vectors (Quivers): Total vector (Q), X-component (QX), Y-component (QY)\n",
    "    index = integer : Input. Position in the Quiver that will be updated\n",
    "    Q = Quiver : Output. Quiver (vector space) that will be updated\n",
    "    QX = Quiver : Output. Quiver (vector space) that will be updated, X-component\n",
    "    QY = Quiver : Output. Quiver (vector space) that will be updated, Y-component\n",
    "    VX = Array of floats: Array containing the x-component of the vector at all array positions \n",
    "    VY = Array of floats: Array containing the y-component of the vector at all array positions \n",
    "    VX and VY MUST have the same dimension.\n",
    "    It returns a Quiver (vector space) which contains 0 at all points, except at the point \"index\"\n",
    "    '''  \n",
    "    # create a list of zeros, the size of the vector, to be used in the function calling\n",
    "    MYZERO=[0]*len(VX)\n",
    "    # we use the update function defined before\n",
    "    Q=update_vector(index,Q,VX,VY)\n",
    "    QX=update_vector(index,QX,VX,MYZERO)\n",
    "    QY=update_vector(index,QY,MYZERO,VY)\n",
    "    return Q,"
   ]
  },
  {
   "cell_type": "code",
   "execution_count": null,
   "metadata": {},
   "outputs": [],
   "source": [
    "fig, myax=plt.subplots(1,1)\n",
    "Q = myax.quiver(XPOS,YPOS,ZERO,ZERO,color='b',angles='xy',scale_units='xy',scale=1, minshaft = 1, minlength=0)\n",
    "QX = myax.quiver(XPOS,YPOS,ZERO,ZERO,color='g',angles='xy',scale_units='xy',scale=1, minshaft = 1, minlength=0)\n",
    "QY = myax.quiver(XPOS,YPOS,ZERO,ZERO,color='g',angles='xy',scale_units='xy',scale=1, minshaft = 1, minlength=0)\n",
    "myax.set_xlim(-160,160)\n",
    "myax.set_ylim(-130,130)\n",
    "framenumbers=len(temps) #We are indexing the position of the vector, this is the total number of elements.\n",
    "animv=animation.FuncAnimation(fig, #figure object\n",
    "                              update_vector_vx_vy, #function to animate, in the form defined above\n",
    "                              fargs=(Q,QX,QY,VX,VY), #arguments to the function update_vector_vx_vy\n",
    "                              frames=framenumbers,  #We are updating a natural index, we can just give the last value\n",
    "                              interval=20, #Interval time (in ms) between updates. Lower number for faster animations (default: 200 ms)\n",
    "                              blit=True,repeat=True)"
   ]
  },
  {
   "cell_type": "markdown",
   "metadata": {},
   "source": [
    "#### Velocitat + acceleració"
   ]
  },
  {
   "cell_type": "markdown",
   "metadata": {},
   "source": [
    "##### Aceleració x"
   ]
  },
  {
   "cell_type": "markdown",
   "metadata": {},
   "source": [
    "Utilitzem les mateixes funcions d'actualització de vectors"
   ]
  },
  {
   "cell_type": "code",
   "execution_count": null,
   "metadata": {},
   "outputs": [],
   "source": [
    "fig, myax=plt.subplots(1,1)\n",
    "QAX = myax.quiver(XPOS,YPOS,ZERO,ZERO,color='orange',angles='xy',scale_units='xy',scale=1, minshaft = 1,minlength=0)\n",
    "myax.set_xlim(-160,160)\n",
    "myax.set_ylim(-130,130)\n",
    "plt.plot(XPOS,YPOS,color='black')\n",
    "framenumbers=len(temps) #We are indexing the position of the vector, this is the total number of elements.\n",
    "animv=animation.FuncAnimation(fig, #figure object\n",
    "                              update_vector, #function to animate, in the form defined above\n",
    "                              fargs=(QAX,AX,ZERO), #arguments to the function update_vector. Use ZERO for the y-component\n",
    "                              frames=framenumbers, #We are updating a natural index, we can just give the last value\n",
    "                              interval=20, #Interval time (in ms) between updates. Lower number for faster animations (default: 200 ms)\n",
    "                              blit=True,repeat=True)"
   ]
  },
  {
   "cell_type": "markdown",
   "metadata": {},
   "source": [
    "##### Aceleració y"
   ]
  },
  {
   "cell_type": "code",
   "execution_count": null,
   "metadata": {},
   "outputs": [],
   "source": [
    "fig, myax=plt.subplots(1,1)\n",
    "QAY = myax.quiver(XPOS,YPOS,ZERO,ZERO,color='orange',angles='xy',scale_units='xy',scale=1, minshaft = 1, minlength=0)\n",
    "myax.set_xlim(-160,160)\n",
    "myax.set_ylim(-130,130)\n",
    "plt.plot(XPOS,YPOS,color='black')\n",
    "framenumbers=len(temps) #We are indexing the position of the vector, this is the total number of elements.\n",
    "animv=animation.FuncAnimation(fig, #figure object\n",
    "                              update_vector, #function to animate, in the form defined above\n",
    "                              fargs=(QAY,ZERO,AY), #arguments to the function update_vector. Use ZERO for the x-component\n",
    "                              frames=framenumbers, #We are updating a natural index, we can just give the last value\n",
    "                              interval=20, #Interval time (in ms) between updates. Lower number for faster animations (default: 200 ms)\n",
    "                              blit=True,repeat=True)"
   ]
  },
  {
   "cell_type": "markdown",
   "metadata": {},
   "source": [
    "#### Acceleració total"
   ]
  },
  {
   "cell_type": "code",
   "execution_count": null,
   "metadata": {},
   "outputs": [],
   "source": [
    "fig, myax=plt.subplots(1,1)\n",
    "QA = myax.quiver(XPOS,YPOS,ZERO,ZERO,color='r',angles='xy',scale_units='xy',scale=1, minshaft = 1, minlength=0)\n",
    "QAX = myax.quiver(XPOS,YPOS,ZERO,ZERO,color='orange',angles='xy',scale_units='xy',scale=1, minshaft = 1,minlength=0)\n",
    "QAY = myax.quiver(XPOS,YPOS,ZERO,ZERO,color='orange',angles='xy',scale_units='xy',scale=1, minshaft = 1, minlength=0)\n",
    "trajec=plt.plot(XPOS,YPOS,color='black')\n",
    "myax.set_xlim(-160,160)\n",
    "myax.set_ylim(-130,130)\n",
    "framenumbers=len(temps) #We are indexing the position of the vector, this is the total number of elements.\n",
    "animv=animation.FuncAnimation(fig, #figure object\n",
    "                              update_vector_vx_vy, #function to animate, in the form defined above\n",
    "                              fargs=(QA,QAX,QAY,AX,AY),  #arguments to the function update_vector_vx_vy\n",
    "                              frames=framenumbers, #We are updating a natural index, we can just give the last value\n",
    "                              interval=20, #Interval time (in ms) between updates. Lower number for faster animations (default: 200 ms)\n",
    "                              blit=True,repeat=True)"
   ]
  },
  {
   "cell_type": "markdown",
   "metadata": {},
   "source": [
    "#### Acceleració + velocitat i components"
   ]
  },
  {
   "cell_type": "code",
   "execution_count": null,
   "metadata": {},
   "outputs": [],
   "source": [
    "def update_velocitat_vx_vy_acceleracio_ax_ay(index, QV, QVX, QVY, QA, QAX, QAY, VX, VY, AX, AY):\n",
    "    '''update_velocitat_vx_vy_acceleracio_ax_ay(index, QV, QVX, QVY, QA, QAX, QAY, VX, VY, AX, AY)\n",
    "    function used to animate a vector (Quiver).\n",
    "    It returns SIX vectors (Quivers): \n",
    "    Total velocity (QV), X-component (QVX), Y-component (QVY)\n",
    "    Total acceleration (QA), X-component (QAX), Y-component (QAY)\n",
    "    index = integer : Input. Position in the Quiver that will be updated\n",
    "    QV = Quiver : Output. Quiver (vector space) that will be updated\n",
    "    QVX = Quiver : Output. Quiver (vector space) that will be updated, X-component\n",
    "    QVY = Quiver : Output. Quiver (vector space) that will be updated, Y-component\n",
    "    QA = Quiver : Output. Quiver (vector space) that will be updated\n",
    "    QAX = Quiver : Output. Quiver (vector space) that will be updated, X-component\n",
    "    QAY = Quiver : Output. Quiver (vector space) that will be updated, Y-component\n",
    "    VX = Array of floats: Array containing the x-component of the V vector at all array positions \n",
    "    VY = Array of floats: Array containing the y-component of the V vector at all array positions \n",
    "    AX = Array of floats: Array containing the x-component of the A vector at all array positions \n",
    "    AY = Array of floats: Array containing the y-component of the A vector at all array positions \n",
    "    VX, VY, AX, AY MUST have the same dimension.\n",
    "    It returns a Quiver (vector space) which contains 0 at all points, except at the point \"index\"\n",
    "    '''  \n",
    "    # we use the update function defined before\n",
    "    QV=update_vector_vx_vy(index,QV,QVX,QVY,VX,VY)\n",
    "    QA=update_vector_vx_vy(index,QA,QAX,QAY,AX,AY)\n",
    "\n",
    "    return QV,"
   ]
  },
  {
   "cell_type": "code",
   "execution_count": null,
   "metadata": {},
   "outputs": [],
   "source": [
    "fig, myax=plt.subplots(1,1)\n",
    "QV = myax.quiver(XPOS,YPOS,ZERO,ZERO,color='b',angles='xy',scale_units='xy',scale=1, minshaft = 1, minlength=0)\n",
    "QVX = myax.quiver(XPOS,YPOS,ZERO,ZERO,color='g',angles='xy',scale_units='xy',scale=1, minshaft = 1, minlength=0)\n",
    "QVY = myax.quiver(XPOS,YPOS,ZERO,ZERO,color='g',angles='xy',scale_units='xy',scale=1, minshaft = 1, minlength=0)\n",
    "QA = myax.quiver(XPOS,YPOS,ZERO,ZERO,color='red',angles='xy',scale_units='xy',scale=1, minshaft = 1, minlength=0)\n",
    "QAX = myax.quiver(XPOS,YPOS,ZERO,ZERO,color='orange',angles='xy',scale_units='xy',scale=1, minshaft = 1,minlength=0)\n",
    "QAY = myax.quiver(XPOS,YPOS,ZERO,ZERO,color='orange',angles='xy',scale_units='xy',scale=1, minshaft = 1, minlength=0)\n",
    "trajec=plt.plot(XPOS,YPOS,color='black')\n",
    "myax.set_xlim(-160,160)\n",
    "myax.set_ylim(-130,130)\n",
    "framenumbers=len(temps) #We are indexing the position of the vector, this is the total number of elements.\n",
    "animv=animation.FuncAnimation(fig, #figure object\n",
    "                              update_velocitat_vx_vy_acceleracio_ax_ay, #function to animate, in the form defined above\n",
    "                              fargs=(QV,QVX,QVY,QA,QAX,QAY,VX,VY,AX,AY), #arguments to the function update_velocitat_total_vx_vy_acceleracio\n",
    "                              frames=framenumbers,  #We are updating a natural index, we can just give the last value\n",
    "                              interval=20, #Interval time (in ms) between updates. Lower number for faster animations (default: 200 ms)\n",
    "                              blit=True,repeat=True)"
   ]
  },
  {
   "cell_type": "markdown",
   "metadata": {},
   "source": [
    "#### Acceleració + velocitat sense components"
   ]
  },
  {
   "cell_type": "code",
   "execution_count": null,
   "metadata": {},
   "outputs": [],
   "source": [
    "def update_velocitat_acceleracio(index, QV, QA, VX, VY, AX, AY):\n",
    "    '''update_velocitat_acceleracio(index, QV, QA, VX, VY, AX, AY)\n",
    "    function used to animate a vector (Quiver).\n",
    "    It returns TWO vectors (Quivers): \n",
    "    Total velocity (QV), \n",
    "    Total acceleration (QA),\n",
    "    index = integer : Input. Position in the Quiver that will be updated\n",
    "    QV = Quiver : Output. Quiver (vector space) that will be updated\n",
    "    QA = Quiver : Output. Quiver (vector space) that will be updated\n",
    "    VX = Array of floats: Array containing the x-component of the V vector at all array positions \n",
    "    VY = Array of floats: Array containing the y-component of the V vector at all array positions \n",
    "    AX = Array of floats: Array containing the x-component of the A vector at all array positions \n",
    "    AY = Array of floats: Array containing the y-component of the A vector at all array positions \n",
    "    VX, VY, AX, AY MUST have the same dimension.\n",
    "    It returns a Quiver (vector space) which contains 0 at all points, except at the point \"index\"\n",
    "    '''  \n",
    "    # we use the update function defined before\n",
    "    QV=update_vector(index,QV,VX,VY)\n",
    "    QA=update_vector(index,QA,AX,AY)\n",
    "\n",
    "    return QV,"
   ]
  },
  {
   "cell_type": "code",
   "execution_count": null,
   "metadata": {},
   "outputs": [],
   "source": [
    "fig, myax=plt.subplots(1,1)\n",
    "QV = myax.quiver(XPOS,YPOS,ZERO,ZERO,color='b',angles='xy',scale_units='xy',scale=1, minshaft = 1, minlength=0)\n",
    "QA = myax.quiver(XPOS,YPOS,ZERO,ZERO,color='red',angles='xy',scale_units='xy',scale=1, minshaft = 1, minlength=0)\n",
    "trajec=plt.plot(XPOS,YPOS,color='black')\n",
    "myax.set_xlim(-160,160)\n",
    "myax.set_ylim(-130,130)\n",
    "framenumbers=len(temps) #We are indexing the position of the vector, this is the total number of elements.\n",
    "animv=animation.FuncAnimation(fig, #figure object\n",
    "                              update_velocitat_acceleracio, #function to animate, in the form defined above\n",
    "                              fargs=(QV,QA,VX,VY,AX,AY), #arguments to the function update_vector\n",
    "                              frames=framenumbers, #We are updating a natural index, we can just give the last value\n",
    "                              interval=20, #Interval time (in ms) between updates. Lower number for faster animations (default: 200 ms)\n",
    "                              blit=True,repeat=True)"
   ]
  },
  {
   "cell_type": "code",
   "execution_count": null,
   "metadata": {},
   "outputs": [],
   "source": []
  }
 ],
 "metadata": {
  "kernelspec": {
   "display_name": "Python 3 (ipykernel)",
   "language": "python",
   "name": "python3"
  },
  "language_info": {
   "codemirror_mode": {
    "name": "ipython",
    "version": 3
   },
   "file_extension": ".py",
   "mimetype": "text/x-python",
   "name": "python",
   "nbconvert_exporter": "python",
   "pygments_lexer": "ipython3",
   "version": "3.11.2"
  }
 },
 "nbformat": 4,
 "nbformat_minor": 2
}
