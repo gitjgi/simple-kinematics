{
 "cells": [
  {
   "cell_type": "markdown",
   "metadata": {},
   "source": [
    "# Ones"
   ]
  },
  {
   "cell_type": "markdown",
   "metadata": {},
   "source": [
    "### Representació gràfica i animada dels conceptes d'ones"
   ]
  },
  {
   "cell_type": "markdown",
   "metadata": {},
   "source": [
    "Preparat per l'assignatura:\n",
    "\n",
    "Fonaments d'Ones Fluids i Termodinàmica\n",
    "\n",
    "Enginyeria Electrònica de Telecomunicacions\n",
    "\n",
    "Facultat de Física, Universitat de Barcelona"
   ]
  },
  {
   "cell_type": "markdown",
   "metadata": {},
   "source": [
    "(c) Jaume Guasch 2023, \n",
    "Llicència: Creative Commons \n",
    "CC-BY-NC-SA 4.0\n",
    "This work is licensed under CC BY-NC-SA 4.0 https://creativecommons.org/licenses/by-nc-sa/4.0/"
   ]
  },
  {
   "cell_type": "markdown",
   "metadata": {},
   "source": [
    "# Instruccions per entregar el treball"
   ]
  },
  {
   "cell_type": "markdown",
   "metadata": {},
   "source": [
    "1.- Escriu els teus nom i cognoms. Fes doble-clic a la cel·la de sota per editar-la, i escriu-hi el teus nom i cognoms"
   ]
  },
  {
   "cell_type": "markdown",
   "metadata": {},
   "source": [
    "**Cognoms, nom:** "
   ]
  },
  {
   "cell_type": "markdown",
   "metadata": {},
   "source": [
    "2.- Avalua **totes** les cel·les del document. Per avaluar una cel·la fes \"Majúscules-retorn\" o clica al botó \"Run\" del menú superior."
   ]
  },
  {
   "cell_type": "markdown",
   "metadata": {},
   "source": [
    "Opcionalment: Pots mirar de variar algun dels paràmetres de la simulació. **Compte!**: si varies el paràmetres probablement hauràs de canviar els límits dels gràfics (i potser algun altre paràmetre)."
   ]
  },
  {
   "cell_type": "markdown",
   "metadata": {},
   "source": [
    "3.- Guarda el resultat (amb tots els gràfics) en un document **PDF** i baixa'l al teu dispositiu. Utilitza el menú **Imprimir** del teu navegador"
   ]
  },
  {
   "cell_type": "markdown",
   "metadata": {},
   "source": [
    "4.- Entrega el PDF generat en la tasca corresponent del campus virtual"
   ]
  },
  {
   "cell_type": "markdown",
   "metadata": {},
   "source": [
    "Opcionalment: Pots baixar-te al teu ordinador el document com un notebook de python o com un programa python utilitzant el menú \"File->Download as ...\" del notebook. Després pots executar el programa al teu ordinador."
   ]
  },
  {
   "cell_type": "markdown",
   "metadata": {},
   "source": [
    "**NOTA**: el programa online **no guarda l'estat** has de fer-ho tot seguit en una sola sessió."
   ]
  },
  {
   "cell_type": "markdown",
   "metadata": {},
   "source": [
    "## Setup\n",
    "Inicialització dels entorns de càlcul i gràfics"
   ]
  },
  {
   "cell_type": "code",
   "execution_count": null,
   "metadata": {},
   "outputs": [],
   "source": [
    "# Càlcul Simbòlic\n",
    "from sympy import *"
   ]
  },
  {
   "cell_type": "code",
   "execution_count": null,
   "metadata": {},
   "outputs": [],
   "source": [
    "# Gràfics\n",
    "import matplotlib.pyplot as plt"
   ]
  },
  {
   "cell_type": "code",
   "execution_count": null,
   "metadata": {},
   "outputs": [],
   "source": [
    "# Animacions\n",
    "import matplotlib.animation as animation"
   ]
  },
  {
   "cell_type": "code",
   "execution_count": null,
   "metadata": {},
   "outputs": [],
   "source": [
    "# Per càlculs numèrics\n",
    "import numpy as np"
   ]
  },
  {
   "cell_type": "markdown",
   "metadata": {},
   "source": [
    "**ATENCIÓ**\n",
    "Això és necessari per mostrar les animacions dins el notebook.\n",
    "Noteu que **ÉS CONVENIENT PARAR** el gràfic després de veure'l"
   ]
  },
  {
   "cell_type": "code",
   "execution_count": null,
   "metadata": {},
   "outputs": [],
   "source": [
    "# Aquest entorn és només per entorn \"jupyter notebook\", \n",
    "# per posar els gràfics dins el mateix notebook\n",
    "# Comentar aquesta línia en altres entorns:\n",
    "%matplotlib notebook"
   ]
  },
  {
   "cell_type": "code",
   "execution_count": null,
   "metadata": {},
   "outputs": [],
   "source": [
    "# Per escriure els outputs de forma bonica:\n",
    "init_printing(use_unicode=True)"
   ]
  },
  {
   "cell_type": "code",
   "execution_count": null,
   "metadata": {},
   "outputs": [],
   "source": [
    "# Les variables x, t, les utilitzarem per definir les funcions de les ones\n",
    "x, t, v=symbols('x t v')"
   ]
  },
  {
   "cell_type": "code",
   "execution_count": null,
   "metadata": {},
   "outputs": [],
   "source": [
    "# Aquesta funció serveix per fer les animacions.\n",
    "# Donada una certa expressió \"f\" en sympy, que depèn de'x' i 't',\n",
    "# torna un objecte 'line', que és una línia de 'plot'\n",
    "def update_function_x_t(time, xrange, f, line):\n",
    "    '''update_function_x_t(time, xrange, f, line)\n",
    "    function used to animate a wave, for shape \"f\", which depends on sympy symbols 'x' and 't'\n",
    "    time = float : numerical scalar, represents time \n",
    "    xrange = list of floats, a list (or range) of space variable 'x', created for example \n",
    "             as x=np.linspace(-10,10,20)\n",
    "    f = sympy expression, which depends **ONLY** on sympy symbols 'x' and 't'\n",
    "    line = line object from a plot to be updated\n",
    "    '''\n",
    "    # substitute the value of time\n",
    "    f1=f.subs(t,time)\n",
    "    # substitute the value of x. Since x is a range, we have to make it in a loop (comprehension list)\n",
    "    # f2=[f1.subs(x,i) for i in xrange]\n",
    "    # To speed up things, convert f1 to an anonymous lambda function from numpy\n",
    "    f1lambda=lambdify(x,f1,'numpy')\n",
    "    f2=f1lambda(xrange)\n",
    "    line.set_data(xrange,f2)\n",
    "    return line,"
   ]
  },
  {
   "cell_type": "markdown",
   "metadata": {},
   "source": [
    "## Ones Viatgeres"
   ]
  },
  {
   "cell_type": "markdown",
   "metadata": {},
   "source": [
    "Funció Fixa"
   ]
  },
  {
   "cell_type": "code",
   "execution_count": null,
   "metadata": {},
   "outputs": [],
   "source": [
    "YY=exp(-x**2)"
   ]
  },
  {
   "cell_type": "code",
   "execution_count": null,
   "metadata": {},
   "outputs": [],
   "source": [
    "YY"
   ]
  },
  {
   "cell_type": "code",
   "execution_count": null,
   "metadata": {
    "scrolled": false
   },
   "outputs": [],
   "source": [
    "plot(YY,(x,-2,2),show=True)"
   ]
  },
  {
   "cell_type": "markdown",
   "metadata": {},
   "source": [
    "### Ona viatgera cap a la dreta. x-> x-v t"
   ]
  },
  {
   "cell_type": "code",
   "execution_count": null,
   "metadata": {},
   "outputs": [],
   "source": [
    "YYright=YY.subs(x,x-v*t)"
   ]
  },
  {
   "cell_type": "code",
   "execution_count": null,
   "metadata": {},
   "outputs": [],
   "source": [
    "YYright"
   ]
  },
  {
   "cell_type": "markdown",
   "metadata": {},
   "source": [
    "Per fer gràfics, hem de donar valor a la velocitat\n",
    "v=1"
   ]
  },
  {
   "cell_type": "code",
   "execution_count": null,
   "metadata": {},
   "outputs": [],
   "source": [
    "YYright=YYright.subs(v,1)"
   ]
  },
  {
   "cell_type": "code",
   "execution_count": null,
   "metadata": {},
   "outputs": [],
   "source": [
    "YYright"
   ]
  },
  {
   "cell_type": "code",
   "execution_count": null,
   "metadata": {},
   "outputs": [],
   "source": [
    "fig=plt.figure()\n",
    "## Dades de l'animacio\n",
    "XRANGE=np.linspace(-2,2,30)\n",
    "TIMERANGE=np.linspace(-4,4,10)\n",
    "FUNCTION=YYright\n",
    "XLIM=(min(XRANGE),max(XRANGE)) #x limits of the plots\n",
    "YLIM=(0,1) #y limits of the plots\n",
    "##\n",
    "ax=plt.axes(xlim=XLIM,ylim=YLIM)\n",
    "line, = ax.plot([],[])\n",
    "plt.grid()\n",
    "anim1= animation.FuncAnimation(fig, #figure object\n",
    "                               update_function_x_t, #function to animate, in the form defined above\n",
    "                               fargs=(XRANGE,FUNCTION,line),\n",
    "                               frames=TIMERANGE,\n",
    "                               interval=200, #Interval time (in ms) between updates. Lower number for faster animations (default: 200 ms)\n",
    "                               blit=True,repeat=False\n",
    "                               )"
   ]
  },
  {
   "cell_type": "code",
   "execution_count": null,
   "metadata": {},
   "outputs": [],
   "source": [
    "# anim1.save('ona_viatgera_dreta.mp4')"
   ]
  },
  {
   "cell_type": "markdown",
   "metadata": {},
   "source": [
    "La funció viatgera pot ser qualsevol cosa, p.ex. l'ArcTangent"
   ]
  },
  {
   "cell_type": "code",
   "execution_count": null,
   "metadata": {},
   "outputs": [],
   "source": [
    "FF=atan(x-t)"
   ]
  },
  {
   "cell_type": "code",
   "execution_count": null,
   "metadata": {},
   "outputs": [],
   "source": [
    "FF"
   ]
  },
  {
   "cell_type": "code",
   "execution_count": null,
   "metadata": {},
   "outputs": [],
   "source": [
    "fig=plt.figure()\n",
    "## Dades de l'animacio\n",
    "XRANGE=np.linspace(-2,2,30)\n",
    "TIMERANGE=np.linspace(-5,5,50)\n",
    "FUNCTION=FF\n",
    "XLIM=(min(XRANGE),max(XRANGE)) #x limits of the plots\n",
    "YLIM=(-1.5,1.5) #y limits of the plots\n",
    "##\n",
    "ax=plt.axes(xlim=XLIM,ylim=YLIM)\n",
    "line, = ax.plot([],[])\n",
    "plt.grid()\n",
    "anim1= animation.FuncAnimation(fig, #figure object\n",
    "                               update_function_x_t, #function to animate, in the form defined above\n",
    "                               fargs=(XRANGE,FUNCTION,line),\n",
    "                               frames=TIMERANGE,\n",
    "                               interval=50, #Interval time (in ms) between updates. Lower number for faster animations (default: 200 ms)\n",
    "                               blit=True,repeat=False\n",
    "                               )"
   ]
  },
  {
   "cell_type": "markdown",
   "metadata": {},
   "source": [
    "o el quadrat"
   ]
  },
  {
   "cell_type": "code",
   "execution_count": null,
   "metadata": {},
   "outputs": [],
   "source": [
    "FF=(x-t)**2"
   ]
  },
  {
   "cell_type": "code",
   "execution_count": null,
   "metadata": {},
   "outputs": [],
   "source": [
    "FF"
   ]
  },
  {
   "cell_type": "code",
   "execution_count": null,
   "metadata": {},
   "outputs": [],
   "source": [
    "fig=plt.figure()\n",
    "## Dades de l'animacio\n",
    "XRANGE=np.linspace(-2,2,50)\n",
    "TIMERANGE=np.linspace(-2,2,50)\n",
    "FUNCTION=FF\n",
    "XLIM=(min(XRANGE),max(XRANGE)) #x limits of the plots\n",
    "YLIM=(-1,1) #y limits of the plots\n",
    "##\n",
    "ax=plt.axes(xlim=XLIM,ylim=YLIM)\n",
    "line, = ax.plot([],[])\n",
    "plt.grid()\n",
    "anim1= animation.FuncAnimation(fig, #figure object\n",
    "                               update_function_x_t, #function to animate, in the form defined above\n",
    "                               fargs=(XRANGE,FUNCTION,line),\n",
    "                               frames=TIMERANGE,\n",
    "                               interval=50, #Interval time (in ms) between updates. Lower number for faster animations (default: 200 ms)\n",
    "                               blit=True,repeat=False\n",
    "                               )"
   ]
  },
  {
   "cell_type": "markdown",
   "metadata": {},
   "source": [
    "Tot i que quan parlem d'ones ens ve al cap una funció harmònica (sin o cos)\n",
    "En aquest cas amb velocitat 2"
   ]
  },
  {
   "cell_type": "code",
   "execution_count": null,
   "metadata": {},
   "outputs": [],
   "source": [
    "FF=sin(x-2*t)"
   ]
  },
  {
   "cell_type": "code",
   "execution_count": null,
   "metadata": {},
   "outputs": [],
   "source": [
    "FF"
   ]
  },
  {
   "cell_type": "code",
   "execution_count": null,
   "metadata": {},
   "outputs": [],
   "source": [
    "fig=plt.figure()\n",
    "## Dades de l'animacio\n",
    "XRANGE=np.linspace(-5,5,50)\n",
    "TIMERANGE=np.linspace(-3,3,50)\n",
    "FUNCTION=FF\n",
    "XLIM=(min(XRANGE),max(XRANGE)) #x limits of the plots\n",
    "YLIM=(-1,1) #y limits of the plots\n",
    "##\n",
    "ax=plt.axes(xlim=XLIM,ylim=YLIM)\n",
    "line, = ax.plot([],[])\n",
    "plt.grid()\n",
    "anim1= animation.FuncAnimation(fig, #figure object\n",
    "                               update_function_x_t, #function to animate, in the form defined above\n",
    "                               fargs=(XRANGE,FUNCTION,line),\n",
    "                               frames=TIMERANGE,\n",
    "                               interval=50, #Interval time (in ms) between updates. Lower number for faster animations (default: 200 ms)\n",
    "                               blit=True,repeat=True\n",
    "                               )"
   ]
  },
  {
   "cell_type": "markdown",
   "metadata": {},
   "source": [
    "### Ona viatgera cap a l'esquerra x-> x+ vt"
   ]
  },
  {
   "cell_type": "code",
   "execution_count": null,
   "metadata": {},
   "outputs": [],
   "source": [
    "YYleft=YY.subs(x,x+v*t)"
   ]
  },
  {
   "cell_type": "code",
   "execution_count": null,
   "metadata": {},
   "outputs": [],
   "source": [
    "YYleft"
   ]
  },
  {
   "cell_type": "code",
   "execution_count": null,
   "metadata": {},
   "outputs": [],
   "source": [
    "YYleft=YYleft.subs(v,1)"
   ]
  },
  {
   "cell_type": "code",
   "execution_count": null,
   "metadata": {},
   "outputs": [],
   "source": [
    "YYleft"
   ]
  },
  {
   "cell_type": "code",
   "execution_count": null,
   "metadata": {},
   "outputs": [],
   "source": [
    "fig=plt.figure()\n",
    "## Dades de l'animacio\n",
    "XRANGE=np.linspace(-2,2,30)\n",
    "TIMERANGE=np.linspace(-4,4,10)\n",
    "FUNCTION=YYleft\n",
    "XLIM=(min(XRANGE),max(XRANGE)) #x limits of the plots\n",
    "YLIM=(0,1) #y limits of the plots\n",
    "##\n",
    "ax=plt.axes(xlim=XLIM,ylim=YLIM)\n",
    "line, = ax.plot([],[])\n",
    "plt.grid()\n",
    "anim1= animation.FuncAnimation(fig, #figure object\n",
    "                               update_function_x_t, #function to animate, in the form defined above\n",
    "                               fargs=(XRANGE,FUNCTION,line),\n",
    "                               frames=TIMERANGE,\n",
    "                               interval=200, #Interval time (in ms) between updates. Lower number for faster animations (default: 200 ms)\n",
    "                               blit=True,repeat=False\n",
    "                               )"
   ]
  },
  {
   "cell_type": "markdown",
   "metadata": {},
   "source": [
    "# Oscil·lador Harmònic"
   ]
  },
  {
   "cell_type": "code",
   "execution_count": null,
   "metadata": {},
   "outputs": [],
   "source": [
    "A0, Omega0 = symbols('A0 Omega0')"
   ]
  },
  {
   "cell_type": "code",
   "execution_count": null,
   "metadata": {},
   "outputs": [],
   "source": [
    "# posició\n",
    "Xarm=A0*sin(Omega0*t)"
   ]
  },
  {
   "cell_type": "code",
   "execution_count": null,
   "metadata": {},
   "outputs": [],
   "source": [
    "Xarm"
   ]
  },
  {
   "cell_type": "code",
   "execution_count": null,
   "metadata": {},
   "outputs": [],
   "source": [
    "#velocitat: derivada de la posició (diff)\n",
    "Varm=Xarm.diff(t,1)"
   ]
  },
  {
   "cell_type": "code",
   "execution_count": null,
   "metadata": {},
   "outputs": [],
   "source": [
    "Varm"
   ]
  },
  {
   "cell_type": "code",
   "execution_count": null,
   "metadata": {},
   "outputs": [],
   "source": [
    "#acceleració: derivada de la velocitat (diff)\n",
    "Aarm=Varm.diff(t,1)"
   ]
  },
  {
   "cell_type": "code",
   "execution_count": null,
   "metadata": {},
   "outputs": [],
   "source": [
    "Aarm"
   ]
  },
  {
   "cell_type": "code",
   "execution_count": null,
   "metadata": {},
   "outputs": [],
   "source": [
    "#Donem valors numèrics a l'amplitud i la freqüència angular:\n",
    "Xarm=Xarm.subs({A0:1, Omega0: 2*pi/7 })\n",
    "Varm=Varm.subs({A0:1, Omega0: 2*pi/7 })\n",
    "Aarm=Aarm.subs({A0:1, Omega0: 2*pi/7 })\n"
   ]
  },
  {
   "cell_type": "code",
   "execution_count": null,
   "metadata": {},
   "outputs": [],
   "source": [
    "(Xarm,Varm,Aarm)"
   ]
  },
  {
   "cell_type": "markdown",
   "metadata": {},
   "source": [
    "## Desplaçament X en funció del temps"
   ]
  },
  {
   "cell_type": "code",
   "execution_count": null,
   "metadata": {},
   "outputs": [],
   "source": [
    "plot(Xarm,(t,0,15),ylabel='X')"
   ]
  },
  {
   "cell_type": "code",
   "execution_count": null,
   "metadata": {},
   "outputs": [],
   "source": [
    "def update_function_t(time,trange,f,line):\n",
    "    '''update_function_t(time, trange, f, line)\n",
    "    function used to make an animated plot as a function of time, \n",
    "    increasing the number of points each time in the plot.\n",
    "    For shape \"f\", which depends on sympy symbol 't'\n",
    "    time = float : numerical scalar, represents time \n",
    "    trange = list of floats, a list (or range) of time variable 't', created for example \n",
    "             as t=np.linspace(-10,10,20)\n",
    "    f = sympy expression, which depends **ONLY** on sympy symbol 't'\n",
    "    l = line object from a plot to be updated\n",
    "    '''\n",
    "    # find the values in trange, up to time\n",
    "    indices=np.where( trange <= time )\n",
    "    # return only the first items, up to index\n",
    "    new_trange=trange[indices]\n",
    "    # f1=[f.subs(t,i) for i in new_trange] \n",
    "    # convert to a lambda function to be faster \n",
    "    flamb=lambdify(t,f,'numpy')\n",
    "    f1=flamb(new_trange)\n",
    "    line.set_data(new_trange,f1)\n",
    "    return line,"
   ]
  },
  {
   "cell_type": "code",
   "execution_count": null,
   "metadata": {},
   "outputs": [],
   "source": [
    "fig=plt.figure()\n",
    "## Dades de l'animacio\n",
    "XRANGE=np.linspace(0,15,50)\n",
    "TIMERANGE=np.linspace(0,15,100)\n",
    "FUNCTION=Xarm\n",
    "XLIM=(min(XRANGE),max(XRANGE)) #x limits of the plots\n",
    "YLIM=(-1,1) #y limits of the plots\n",
    "##\n",
    "ax=plt.axes(xlim=XLIM,ylim=YLIM)\n",
    "line, = ax.plot([],[])\n",
    "plt.grid()\n",
    "anim1= animation.FuncAnimation(fig, #figure object\n",
    "                               update_function_t, #function to animate, in the form defined above\n",
    "                               fargs=(TIMERANGE,FUNCTION,line),\n",
    "                               frames=TIMERANGE,\n",
    "                               interval=50, #Interval time (in ms) between updates. Lower number for faster animations (default: 200 ms)\n",
    "                               blit=True,repeat=False\n",
    "                               )"
   ]
  },
  {
   "cell_type": "markdown",
   "metadata": {},
   "source": [
    "### Desplaçament (X) Velocitat (V) Acceleració (A) en funció del temps"
   ]
  },
  {
   "cell_type": "code",
   "execution_count": null,
   "metadata": {},
   "outputs": [],
   "source": [
    "def update_3functions_t(t,trange,f1,f2,f3,l1,l2,l3):\n",
    "    '''update_3functions_t(t,trange,f1,f2,f3,l1,l2,l3)\n",
    "    function to update 3 lines with 3 diferent functions\n",
    "    t: float, time\n",
    "    trange: list of floats (total time range)\n",
    "    f1, f2, f3: sympy expressions which depend only on 't'\n",
    "    l1, l2, l3: 3 plot line objects\n",
    "    '''\n",
    "    update_function_t(t,trange,f1,l1)\n",
    "    update_function_t(t,trange,f2,l2)\n",
    "    update_function_t(t,trange,f3,l3)\n",
    "    return l1,l2,l3"
   ]
  },
  {
   "cell_type": "code",
   "execution_count": null,
   "metadata": {},
   "outputs": [],
   "source": [
    "fig=plt.figure()\n",
    "## Dades de l'animacio\n",
    "XRANGE=np.linspace(0,15,30)\n",
    "TIMERANGE=np.linspace(0,15,100)\n",
    "F1=Xarm\n",
    "F2=Varm\n",
    "F3=Aarm\n",
    "XLIM=(min(XRANGE),max(XRANGE)) #x limits of the plots\n",
    "YLIM=(-1,1) #y limits of the plots\n",
    "##\n",
    "ax=plt.axes(xlim=XLIM,ylim=YLIM)\n",
    "line1, = ax.plot([],[],'b')\n",
    "line2, = ax.plot([],[],'g')\n",
    "line3, = ax.plot([],[],'r')\n",
    "plt.grid()\n",
    "anim1= animation.FuncAnimation(fig, #figure object\n",
    "                               update_3functions_t, #function to animate, in the form defined above\n",
    "                               fargs=(TIMERANGE,F1,F2,F3,line1,line2,line3),\n",
    "                               frames=TIMERANGE,\n",
    "                               interval=50, #Interval time (in ms) between updates. Lower number for faster animations (default: 200 ms)\n",
    "                               blit=True,repeat=False\n",
    "                               )"
   ]
  },
  {
   "cell_type": "code",
   "execution_count": null,
   "metadata": {},
   "outputs": [],
   "source": [
    "pl1=plot(Xarm,Varm,(t,0,15),legend=True,show=False)\n",
    "pl1[0].line_color='b'\n",
    "pl1[0].label='x'\n",
    "pl1[1].line_color='g'\n",
    "pl1[1].label='v'\n",
    "pl1.show()\n",
    "plt.grid()"
   ]
  },
  {
   "cell_type": "code",
   "execution_count": null,
   "metadata": {},
   "outputs": [],
   "source": [
    "pl1=plot(Xarm,Varm,Aarm,(t,0,15),legend=True,show=False)\n",
    "pl1[0].line_color='b'\n",
    "pl1[0].label='x'\n",
    "pl1[1].line_color='g'\n",
    "pl1[1].label='v'\n",
    "pl1[2].line_color='r'\n",
    "pl1[2].label='a'\n",
    "pl1.show()\n",
    "plt.grid()"
   ]
  },
  {
   "cell_type": "markdown",
   "metadata": {},
   "source": [
    "# Ona Harmònica"
   ]
  },
  {
   "cell_type": "code",
   "execution_count": null,
   "metadata": {},
   "outputs": [],
   "source": [
    "y=A0*sin(Omega0 *(t-x/v))"
   ]
  },
  {
   "cell_type": "code",
   "execution_count": null,
   "metadata": {},
   "outputs": [],
   "source": [
    "y"
   ]
  },
  {
   "cell_type": "markdown",
   "metadata": {},
   "source": [
    "Donem valors numèrics"
   ]
  },
  {
   "cell_type": "code",
   "execution_count": null,
   "metadata": {},
   "outputs": [],
   "source": [
    "# velocitat v\n",
    "Rational(20,7)"
   ]
  },
  {
   "cell_type": "code",
   "execution_count": null,
   "metadata": {},
   "outputs": [],
   "source": [
    "y=y.subs( {A0: 1, Omega0: 2*pi/7, v: Rational(20,7)})"
   ]
  },
  {
   "cell_type": "code",
   "execution_count": null,
   "metadata": {},
   "outputs": [],
   "source": [
    "y"
   ]
  },
  {
   "cell_type": "code",
   "execution_count": null,
   "metadata": {},
   "outputs": [],
   "source": [
    "Lambda = v *2*pi/Omega0\n",
    "Lambda"
   ]
  },
  {
   "cell_type": "markdown",
   "metadata": {},
   "source": [
    "Omega0 = 2 pi/T\n",
    "v= Lambda/T = 20/7 --> Lambda = v T = 20"
   ]
  },
  {
   "cell_type": "code",
   "execution_count": null,
   "metadata": {},
   "outputs": [],
   "source": [
    "Lambda = Lambda.subs( {A0: 1, Omega0: 2*pi/7, v: Rational(20,7)})"
   ]
  },
  {
   "cell_type": "code",
   "execution_count": null,
   "metadata": {},
   "outputs": [],
   "source": [
    "Lambda"
   ]
  },
  {
   "cell_type": "markdown",
   "metadata": {},
   "source": [
    "### a x= constant, x=0, Oscil·lador harmònic"
   ]
  },
  {
   "cell_type": "code",
   "execution_count": null,
   "metadata": {},
   "outputs": [],
   "source": [
    "y1=y.subs(x,0)"
   ]
  },
  {
   "cell_type": "code",
   "execution_count": null,
   "metadata": {},
   "outputs": [],
   "source": [
    "y1"
   ]
  },
  {
   "cell_type": "code",
   "execution_count": null,
   "metadata": {},
   "outputs": [],
   "source": [
    "plot(y1,(t,0,15))\n",
    "plt.grid()"
   ]
  },
  {
   "cell_type": "markdown",
   "metadata": {},
   "source": [
    "x=3"
   ]
  },
  {
   "cell_type": "code",
   "execution_count": null,
   "metadata": {},
   "outputs": [],
   "source": [
    "y1=y.subs(x,3)"
   ]
  },
  {
   "cell_type": "code",
   "execution_count": null,
   "metadata": {},
   "outputs": [],
   "source": [
    "y1"
   ]
  },
  {
   "cell_type": "code",
   "execution_count": null,
   "metadata": {},
   "outputs": [],
   "source": [
    "expand(y1)"
   ]
  },
  {
   "cell_type": "code",
   "execution_count": null,
   "metadata": {},
   "outputs": [],
   "source": [
    "plot(y1,(t,0,15))\n",
    "plt.grid()"
   ]
  },
  {
   "cell_type": "markdown",
   "metadata": {},
   "source": [
    "### a t=constant (t=0) forma d'ona"
   ]
  },
  {
   "cell_type": "code",
   "execution_count": null,
   "metadata": {},
   "outputs": [],
   "source": [
    "y2=y.subs(t,0)"
   ]
  },
  {
   "cell_type": "code",
   "execution_count": null,
   "metadata": {},
   "outputs": [],
   "source": [
    "y2"
   ]
  },
  {
   "cell_type": "code",
   "execution_count": null,
   "metadata": {},
   "outputs": [],
   "source": [
    "plot(y2,(x,0,15))\n",
    "plt.grid()"
   ]
  },
  {
   "cell_type": "code",
   "execution_count": null,
   "metadata": {},
   "outputs": [],
   "source": [
    "plot(y2,(x,0,30))\n",
    "plt.grid()"
   ]
  },
  {
   "cell_type": "markdown",
   "metadata": {},
   "source": [
    "### Mateixa Ona a diferents temps"
   ]
  },
  {
   "cell_type": "markdown",
   "metadata": {},
   "source": [
    "t=0"
   ]
  },
  {
   "cell_type": "code",
   "execution_count": null,
   "metadata": {},
   "outputs": [],
   "source": [
    "plot(y.subs(t,0),(x,0,30))\n",
    "plt.grid()"
   ]
  },
  {
   "cell_type": "markdown",
   "metadata": {},
   "source": [
    "t=1"
   ]
  },
  {
   "cell_type": "code",
   "execution_count": null,
   "metadata": {},
   "outputs": [],
   "source": [
    "plot(y.subs(t,1),(x,0,30))\n",
    "plt.grid()"
   ]
  },
  {
   "cell_type": "markdown",
   "metadata": {},
   "source": [
    "t=7, període"
   ]
  },
  {
   "cell_type": "code",
   "execution_count": null,
   "metadata": {},
   "outputs": [],
   "source": [
    "plot(y.subs(t,7),(x,0,30))\n",
    "plt.grid()"
   ]
  },
  {
   "cell_type": "markdown",
   "metadata": {},
   "source": [
    "#### Ona en diferents temps, t=0, T/4, T/2, 3 T/4, T"
   ]
  },
  {
   "cell_type": "code",
   "execution_count": null,
   "metadata": {},
   "outputs": [],
   "source": [
    "funcs=[y.subs(t,i)-20/7*i for i in np.linspace(0,7,5)]\n",
    "func2=-7*x/20*20/7\n",
    "pl1=plot(funcs[0],funcs[1],funcs[2],funcs[3],funcs[4],func2,(x,0,50),ylim=(-25,1),show=False,legend=True)\n",
    "pl1[0].line_color='b'\n",
    "pl1[1].line_color='r'\n",
    "pl1[2].line_color='g'\n",
    "pl1[3].line_color='c'\n",
    "pl1[4].line_color='y'\n",
    "pl1.show()\n",
    "plt.grid()\n",
    "plt.legend(('0','T/4','T/2','3T/4','T'))"
   ]
  },
  {
   "cell_type": "markdown",
   "metadata": {},
   "source": [
    "### Animació ona viatgera"
   ]
  },
  {
   "cell_type": "code",
   "execution_count": null,
   "metadata": {
    "scrolled": false
   },
   "outputs": [],
   "source": [
    "fig=plt.figure()\n",
    "## Dades de l'animacio\n",
    "XRANGE=np.linspace(0,50,100)\n",
    "TIMERANGE=np.linspace(0,14,20)\n",
    "FUNCTION=y\n",
    "XLIM=(min(XRANGE),max(XRANGE)) #x limits of the plots\n",
    "YLIM=(-1,1) #y limits of the plots\n",
    "##\n",
    "ax=plt.axes(xlim=XLIM,ylim=YLIM)\n",
    "line, = ax.plot([],[])\n",
    "plt.grid()\n",
    "anim1= animation.FuncAnimation(fig, #figure object\n",
    "                               update_function_x_t, #function to animate, in the form defined above\n",
    "                               fargs=(XRANGE,FUNCTION,line),\n",
    "                               frames=TIMERANGE,\n",
    "                               interval=100, #Interval time (in ms) between updates. Lower number for faster animations (default: 200 ms)\n",
    "                               blit=True,repeat=False\n",
    "                               )"
   ]
  },
  {
   "cell_type": "markdown",
   "metadata": {},
   "source": [
    "# Principi de Superposició"
   ]
  },
  {
   "cell_type": "markdown",
   "metadata": {},
   "source": [
    "## Interferències"
   ]
  },
  {
   "cell_type": "markdown",
   "metadata": {},
   "source": [
    "Ona positiva que viatja cap a la dreta"
   ]
  },
  {
   "cell_type": "code",
   "execution_count": null,
   "metadata": {
    "scrolled": false
   },
   "outputs": [],
   "source": [
    "fig=plt.figure()\n",
    "## Dades de l'animacio\n",
    "XRANGE=np.linspace(-2,2,30)\n",
    "TIMERANGE=np.linspace(-4,4,10)\n",
    "FUNCTION=YYright\n",
    "XLIM=(min(XRANGE),max(XRANGE)) #x limits of the plots\n",
    "YLIM=(-2,2) #y limits of the plots\n",
    "##\n",
    "ax=plt.axes(xlim=XLIM,ylim=YLIM)\n",
    "line, = ax.plot([],[])\n",
    "plt.grid()\n",
    "anim1= animation.FuncAnimation(fig, #figure object\n",
    "                               update_function_x_t, #function to animate, in the form defined above\n",
    "                               fargs=(XRANGE,FUNCTION,line),\n",
    "                               frames=TIMERANGE,\n",
    "                               interval=200, #Interval time (in ms) between updates. Lower number for faster animations (default: 200 ms)\n",
    "                               blit=True,repeat=False\n",
    "                               )"
   ]
  },
  {
   "cell_type": "markdown",
   "metadata": {},
   "source": [
    "Ona positiva que viatja cap a l'esquerra"
   ]
  },
  {
   "cell_type": "code",
   "execution_count": null,
   "metadata": {},
   "outputs": [],
   "source": [
    "fig=plt.figure()\n",
    "## Dades de l'animacio\n",
    "XRANGE=np.linspace(-2,2,30)\n",
    "TIMERANGE=np.linspace(-4,4,10)\n",
    "FUNCTION=YYleft\n",
    "XLIM=(min(XRANGE),max(XRANGE)) #x limits of the plots\n",
    "YLIM=(-2,2) #y limits of the plots\n",
    "##\n",
    "ax=plt.axes(xlim=XLIM,ylim=YLIM)\n",
    "line, = ax.plot([],[])\n",
    "plt.grid()\n",
    "anim1= animation.FuncAnimation(fig, #figure object\n",
    "                               update_function_x_t, #function to animate, in the form defined above\n",
    "                               fargs=(XRANGE,FUNCTION,line),\n",
    "                               frames=TIMERANGE,\n",
    "                               interval=200, #Interval time (in ms) between updates. Lower number for faster animations (default: 200 ms)\n",
    "                               blit=True,repeat=False\n",
    "                               )"
   ]
  },
  {
   "cell_type": "markdown",
   "metadata": {},
   "source": [
    "Suma d'ones que viatgen cap a la dreta i cap a l'esquerra"
   ]
  },
  {
   "cell_type": "code",
   "execution_count": null,
   "metadata": {},
   "outputs": [],
   "source": [
    "YYsum=YYleft+YYright"
   ]
  },
  {
   "cell_type": "code",
   "execution_count": null,
   "metadata": {},
   "outputs": [],
   "source": [
    "YYsum"
   ]
  },
  {
   "cell_type": "code",
   "execution_count": null,
   "metadata": {},
   "outputs": [],
   "source": [
    "fig=plt.figure()\n",
    "## Dades de l'animacio\n",
    "XRANGE=np.linspace(-4,4,50)\n",
    "TIMERANGE=np.linspace(-10,10,31)\n",
    "FUNCTION=YYsum\n",
    "XLIM=(min(XRANGE),max(XRANGE)) #x limits of the plots\n",
    "YLIM=(-2,2) #y limits of the plots\n",
    "##\n",
    "ax=plt.axes(xlim=XLIM,ylim=YLIM)\n",
    "line, = ax.plot([],[])\n",
    "plt.grid()\n",
    "anim1= animation.FuncAnimation(fig, #figure object\n",
    "                               update_function_x_t, #function to animate, in the form defined above\n",
    "                               fargs=(XRANGE,FUNCTION,line),\n",
    "                               frames=TIMERANGE,\n",
    "                               interval=100, #Interval time (in ms) between updates. Lower number for faster animations (default: 200 ms)\n",
    "                               blit=True,repeat=True\n",
    "                               )"
   ]
  },
  {
   "cell_type": "markdown",
   "metadata": {},
   "source": [
    "Ona negativa que viatja cap a l'esquerra"
   ]
  },
  {
   "cell_type": "code",
   "execution_count": null,
   "metadata": {},
   "outputs": [],
   "source": [
    "fig=plt.figure()\n",
    "## Dades de l'animacio\n",
    "XRANGE=np.linspace(-4,4,50)\n",
    "TIMERANGE=np.linspace(-10,10,21)\n",
    "FUNCTION=-YYleft\n",
    "XLIM=(min(XRANGE),max(XRANGE)) #x limits of the plots\n",
    "YLIM=(-2,2) #y limits of the plots\n",
    "##\n",
    "ax=plt.axes(xlim=XLIM,ylim=YLIM)\n",
    "line, = ax.plot([],[])\n",
    "plt.grid()\n",
    "anim1= animation.FuncAnimation(fig, #figure object\n",
    "                               update_function_x_t, #function to animate, in the form defined above\n",
    "                               fargs=(XRANGE,FUNCTION,line),\n",
    "                               frames=TIMERANGE,\n",
    "                               interval=200, #Interval time (in ms) between updates. Lower number for faster animations (default: 200 ms)\n",
    "                               blit=True,repeat=False\n",
    "                               )"
   ]
  },
  {
   "cell_type": "markdown",
   "metadata": {},
   "source": [
    "Suma d'ones Positiva i Negativa que viatgen cap a la dreta i cap a l'esquerra"
   ]
  },
  {
   "cell_type": "code",
   "execution_count": null,
   "metadata": {},
   "outputs": [],
   "source": [
    "YYsubst=-YYleft+YYright"
   ]
  },
  {
   "cell_type": "code",
   "execution_count": null,
   "metadata": {},
   "outputs": [],
   "source": [
    "YYsubst"
   ]
  },
  {
   "cell_type": "code",
   "execution_count": null,
   "metadata": {},
   "outputs": [],
   "source": [
    "fig=plt.figure()\n",
    "## Dades de l'animacio\n",
    "XRANGE=np.linspace(-4,4,50)\n",
    "TIMERANGE=np.linspace(-10,10,31)\n",
    "FUNCTION=YYsubst\n",
    "XLIM=(min(XRANGE),max(XRANGE)) #x limits of the plots\n",
    "YLIM=(-2,2) #y limits of the plots\n",
    "##\n",
    "ax=plt.axes(xlim=XLIM,ylim=YLIM)\n",
    "line, = ax.plot([],[])\n",
    "plt.grid()\n",
    "anim1= animation.FuncAnimation(fig, #figure object\n",
    "                               update_function_x_t, #function to animate, in the form defined above\n",
    "                               fargs=(XRANGE,FUNCTION,line),\n",
    "                               frames=TIMERANGE,\n",
    "                               interval=100, #Interval time (in ms) between updates. Lower number for faster animations (default: 200 ms)\n",
    "                               blit=True,repeat=True\n",
    "                               )"
   ]
  },
  {
   "cell_type": "markdown",
   "metadata": {},
   "source": [
    "Suma de 2 ones harmòniques"
   ]
  },
  {
   "cell_type": "code",
   "execution_count": null,
   "metadata": {},
   "outputs": [],
   "source": [
    "YY1=sin(2*pi*(t-x))"
   ]
  },
  {
   "cell_type": "code",
   "execution_count": null,
   "metadata": {},
   "outputs": [],
   "source": [
    "YY1"
   ]
  },
  {
   "cell_type": "code",
   "execution_count": null,
   "metadata": {},
   "outputs": [],
   "source": [
    "fig=plt.figure()\n",
    "## Dades de l'animacio\n",
    "XRANGE=np.linspace(0,5,200)\n",
    "TIMERANGE=np.linspace(0,14,50)\n",
    "FUNCTION=YY1\n",
    "XLIM=(min(XRANGE),max(XRANGE)) #x limits of the plots\n",
    "YLIM=(-2,2) #y limits of the plots\n",
    "##\n",
    "ax=plt.axes(xlim=XLIM,ylim=YLIM)\n",
    "line, = ax.plot([],[])\n",
    "plt.grid()\n",
    "anim1= animation.FuncAnimation(fig, #figure object\n",
    "                               update_function_x_t, #function to animate, in the form defined above\n",
    "                               fargs=(XRANGE,FUNCTION,line),\n",
    "                               frames=TIMERANGE,\n",
    "                               interval=100, #Interval time (in ms) between updates. Lower number for faster animations (default: 200 ms)\n",
    "                               blit=True,repeat=True\n",
    "                               )"
   ]
  },
  {
   "cell_type": "code",
   "execution_count": null,
   "metadata": {},
   "outputs": [],
   "source": [
    "YY2=sin(2*pi/2 *(t-x)+3)"
   ]
  },
  {
   "cell_type": "code",
   "execution_count": null,
   "metadata": {},
   "outputs": [],
   "source": [
    "YY2"
   ]
  },
  {
   "cell_type": "code",
   "execution_count": null,
   "metadata": {},
   "outputs": [],
   "source": [
    "fig=plt.figure()\n",
    "## Dades de l'animacio\n",
    "XRANGE=np.linspace(0,5,200)\n",
    "TIMERANGE=np.linspace(0,14,50)\n",
    "FUNCTION=YY2\n",
    "XLIM=(min(XRANGE),max(XRANGE)) #x limits of the plots\n",
    "YLIM=(-2,2) #y limits of the plots\n",
    "##\n",
    "ax=plt.axes(xlim=XLIM,ylim=YLIM)\n",
    "line, = ax.plot([],[])\n",
    "plt.grid()\n",
    "anim1= animation.FuncAnimation(fig, #figure object\n",
    "                               update_function_x_t, #function to animate, in the form defined above\n",
    "                               fargs=(XRANGE,FUNCTION,line),\n",
    "                               frames=TIMERANGE,\n",
    "                               interval=100, #Interval time (in ms) between updates. Lower number for faster animations (default: 200 ms)\n",
    "                               blit=True,repeat=True\n",
    "                               )"
   ]
  },
  {
   "cell_type": "code",
   "execution_count": null,
   "metadata": {},
   "outputs": [],
   "source": [
    "YYinterf=YY1+YY2"
   ]
  },
  {
   "cell_type": "code",
   "execution_count": null,
   "metadata": {},
   "outputs": [],
   "source": [
    "YYinterf"
   ]
  },
  {
   "cell_type": "code",
   "execution_count": null,
   "metadata": {},
   "outputs": [],
   "source": [
    "fig=plt.figure()\n",
    "## Dades de l'animacio\n",
    "XRANGE=np.linspace(0,5,200)\n",
    "TIMERANGE=np.linspace(0,14,50)\n",
    "FUNCTION=YYinterf\n",
    "XLIM=(min(XRANGE),max(XRANGE)) #x limits of the plots\n",
    "YLIM=(-2,2) #y limits of the plots\n",
    "##\n",
    "ax=plt.axes(xlim=XLIM,ylim=YLIM)\n",
    "line, = ax.plot([],[])\n",
    "plt.grid()\n",
    "anim1= animation.FuncAnimation(fig, #figure object\n",
    "                               update_function_x_t, #function to animate, in the form defined above\n",
    "                               fargs=(XRANGE,FUNCTION,line),\n",
    "                               frames=TIMERANGE,\n",
    "                               interval=100, #Interval time (in ms) between updates. Lower number for faster animations (default: 200 ms)\n",
    "                               blit=True,repeat=True\n",
    "                               )"
   ]
  },
  {
   "cell_type": "markdown",
   "metadata": {},
   "source": [
    "### Interferència totalment constructiva (desfasament = 2 Pi)"
   ]
  },
  {
   "cell_type": "code",
   "execution_count": null,
   "metadata": {},
   "outputs": [],
   "source": [
    "YYcons=sin(2*pi*(t-x))+sin(2*pi*(t-x)+2*pi)"
   ]
  },
  {
   "cell_type": "code",
   "execution_count": null,
   "metadata": {},
   "outputs": [],
   "source": [
    "fig=plt.figure()\n",
    "## Dades de l'animacio\n",
    "XRANGE=np.linspace(0,5,200)\n",
    "TIMERANGE=np.linspace(0,14,50)\n",
    "FUNCTION=YYcons\n",
    "XLIM=(min(XRANGE),max(XRANGE)) #x limits of the plots\n",
    "YLIM=(-2,2) #y limits of the plots\n",
    "##\n",
    "ax=plt.axes(xlim=XLIM,ylim=YLIM)\n",
    "line, = ax.plot([],[])\n",
    "plt.grid()\n",
    "anim1= animation.FuncAnimation(fig, #figure object\n",
    "                               update_function_x_t, #function to animate, in the form defined above\n",
    "                               fargs=(XRANGE,FUNCTION,line),\n",
    "                               frames=TIMERANGE,\n",
    "                               interval=100, #Interval time (in ms) between updates. Lower number for faster animations (default: 200 ms)\n",
    "                               blit=True,repeat=True\n",
    "                               )"
   ]
  },
  {
   "cell_type": "code",
   "execution_count": null,
   "metadata": {},
   "outputs": [],
   "source": [
    "YYcons"
   ]
  },
  {
   "cell_type": "markdown",
   "metadata": {},
   "source": [
    "### Interferència totalment destructiva (desfasament = Pi)"
   ]
  },
  {
   "cell_type": "code",
   "execution_count": null,
   "metadata": {},
   "outputs": [],
   "source": [
    "YYdes=sin(2*pi*(t-x))+sin(2*pi*(t-x)+pi)"
   ]
  },
  {
   "cell_type": "code",
   "execution_count": null,
   "metadata": {},
   "outputs": [],
   "source": [
    "fig=plt.figure()\n",
    "## Dades de l'animacio\n",
    "XRANGE=np.linspace(0,5,100)\n",
    "TIMERANGE=np.linspace(0,14,50)\n",
    "FUNCTION=YYdes\n",
    "XLIM=(min(XRANGE),max(XRANGE)) #x limits of the plots\n",
    "YLIM=(-2,2) #y limits of the plots\n",
    "##\n",
    "ax=plt.axes(xlim=XLIM,ylim=YLIM)\n",
    "line, = ax.plot([],[])\n",
    "plt.grid()\n",
    "anim1= animation.FuncAnimation(fig, #figure object\n",
    "                               update_function_x_t, #function to animate, in the form defined above\n",
    "                               fargs=(XRANGE,FUNCTION,line),\n",
    "                               frames=TIMERANGE,\n",
    "                               interval=100, #Interval time (in ms) between updates. Lower number for faster animations (default: 200 ms)\n",
    "                               blit=True,repeat=True\n",
    "                               )"
   ]
  },
  {
   "cell_type": "code",
   "execution_count": null,
   "metadata": {},
   "outputs": [],
   "source": [
    "YYdes"
   ]
  },
  {
   "cell_type": "markdown",
   "metadata": {},
   "source": [
    "### Interferència parcialment destructiva (desfasament =3 = 0.995 Pi)"
   ]
  },
  {
   "cell_type": "code",
   "execution_count": null,
   "metadata": {},
   "outputs": [],
   "source": [
    "YYdes2=sin(2*pi*(t-x))+sin(2*pi*(t-x)+3)"
   ]
  },
  {
   "cell_type": "code",
   "execution_count": null,
   "metadata": {},
   "outputs": [],
   "source": [
    "fig=plt.figure()\n",
    "## Dades de l'animacio\n",
    "XRANGE=np.linspace(0,5,200)\n",
    "TIMERANGE=np.linspace(0,14,50)\n",
    "FUNCTION=YYdes2\n",
    "XLIM=(min(XRANGE),max(XRANGE)) #x limits of the plots\n",
    "YLIM=(-2,2) #y limits of the plots\n",
    "##\n",
    "ax=plt.axes(xlim=XLIM,ylim=YLIM)\n",
    "line, = ax.plot([],[])\n",
    "plt.grid()\n",
    "anim1= animation.FuncAnimation(fig, #figure object\n",
    "                               update_function_x_t, #function to animate, in the form defined above\n",
    "                               fargs=(XRANGE,FUNCTION,line),\n",
    "                               frames=TIMERANGE,\n",
    "                               interval=100, #Interval time (in ms) between updates. Lower number for faster animations (default: 200 ms)\n",
    "                               blit=True,repeat=True\n",
    "                               )"
   ]
  },
  {
   "cell_type": "code",
   "execution_count": null,
   "metadata": {},
   "outputs": [],
   "source": [
    "YYdes2"
   ]
  },
  {
   "cell_type": "markdown",
   "metadata": {},
   "source": [
    "### Interferència parcialment constructiva (desfasament =2)"
   ]
  },
  {
   "cell_type": "code",
   "execution_count": null,
   "metadata": {},
   "outputs": [],
   "source": [
    "YYdes3=sin(2*pi*(t-x))+sin(2*pi*(t-x)+2)"
   ]
  },
  {
   "cell_type": "code",
   "execution_count": null,
   "metadata": {},
   "outputs": [],
   "source": [
    "YYdes3"
   ]
  },
  {
   "cell_type": "code",
   "execution_count": null,
   "metadata": {},
   "outputs": [],
   "source": [
    "fig=plt.figure()\n",
    "## Dades de l'animacio\n",
    "XRANGE=np.linspace(0,5,200)\n",
    "TIMERANGE=np.linspace(0,14,50)\n",
    "FUNCTION=YYdes3\n",
    "XLIM=(min(XRANGE),max(XRANGE)) #x limits of the plots\n",
    "YLIM=(-2,2) #y limits of the plots\n",
    "##\n",
    "ax=plt.axes(xlim=XLIM,ylim=YLIM)\n",
    "line, = ax.plot([],[])\n",
    "plt.grid()\n",
    "anim1= animation.FuncAnimation(fig, #figure object\n",
    "                               update_function_x_t, #function to animate, in the form defined above\n",
    "                               fargs=(XRANGE,FUNCTION,line),\n",
    "                               frames=TIMERANGE,\n",
    "                               interval=100, #Interval time (in ms) between updates. Lower number for faster animations (default: 200 ms)\n",
    "                               blit=True,repeat=True\n",
    "                               )"
   ]
  },
  {
   "cell_type": "markdown",
   "metadata": {},
   "source": [
    "### Interferència destructiva (desfasament =3 Pi)"
   ]
  },
  {
   "cell_type": "code",
   "execution_count": null,
   "metadata": {},
   "outputs": [],
   "source": [
    "YYdes4=sin(2*pi*(t-x))+sin(2*pi*(t-x)+3*pi)"
   ]
  },
  {
   "cell_type": "code",
   "execution_count": null,
   "metadata": {},
   "outputs": [],
   "source": [
    "fig=plt.figure()\n",
    "## Dades de l'animacio\n",
    "XRANGE=np.linspace(0,5,200)\n",
    "TIMERANGE=np.linspace(0,14,50)\n",
    "FUNCTION=YYdes4\n",
    "XLIM=(min(XRANGE),max(XRANGE)) #x limits of the plots\n",
    "YLIM=(-2,2) #y limits of the plots\n",
    "##\n",
    "ax=plt.axes(xlim=XLIM,ylim=YLIM)\n",
    "line, = ax.plot([],[])\n",
    "plt.grid()\n",
    "anim1= animation.FuncAnimation(fig, #figure object\n",
    "                               update_function_x_t, #function to animate, in the form defined above\n",
    "                               fargs=(XRANGE,FUNCTION,line),\n",
    "                               frames=TIMERANGE,\n",
    "                               interval=100, #Interval time (in ms) between updates. Lower number for faster animations (default: 200 ms)\n",
    "                               blit=True,repeat=True\n",
    "                               )"
   ]
  },
  {
   "cell_type": "markdown",
   "metadata": {},
   "source": [
    "## Ones Estacionàries"
   ]
  },
  {
   "cell_type": "markdown",
   "metadata": {},
   "source": [
    "### setup"
   ]
  },
  {
   "cell_type": "code",
   "execution_count": null,
   "metadata": {},
   "outputs": [],
   "source": [
    "Yest=A0*(sin(Omega0*(t-x/v))-sin(Omega0*(t+x/v)))"
   ]
  },
  {
   "cell_type": "code",
   "execution_count": null,
   "metadata": {},
   "outputs": [],
   "source": [
    "Yest"
   ]
  },
  {
   "cell_type": "code",
   "execution_count": null,
   "metadata": {},
   "outputs": [],
   "source": [
    "Yest=Yest.subs({A0:1, Omega0: 2*pi/7 , v:1})"
   ]
  },
  {
   "cell_type": "code",
   "execution_count": null,
   "metadata": {},
   "outputs": [],
   "source": [
    "Yest"
   ]
  },
  {
   "cell_type": "code",
   "execution_count": null,
   "metadata": {},
   "outputs": [],
   "source": [
    "fig=plt.figure()\n",
    "## Dades de l'animacio\n",
    "XRANGE=np.linspace(0,20,100)\n",
    "TIMERANGE=np.linspace(0,14,50)\n",
    "FUNCTION=Yest\n",
    "XLIM=(min(XRANGE),max(XRANGE)) #x limits of the plots\n",
    "YLIM=(-2,2) #y limits of the plots\n",
    "##\n",
    "ax=plt.axes(xlim=XLIM,ylim=YLIM)\n",
    "line, = ax.plot([],[])\n",
    "plt.grid()\n",
    "anim1= animation.FuncAnimation(fig, #figure object\n",
    "                               update_function_x_t, #function to animate, in the form defined above\n",
    "                               fargs=(XRANGE,FUNCTION,line),\n",
    "                               frames=TIMERANGE,\n",
    "                               interval=200, #Interval time (in ms) between updates. Lower number for faster animations (default: 200 ms)\n",
    "                               blit=True,repeat=True\n",
    "                               )"
   ]
  },
  {
   "cell_type": "code",
   "execution_count": null,
   "metadata": {},
   "outputs": [],
   "source": [
    "Omega1, lambda1 = symbols('Omega1 lambda1')"
   ]
  },
  {
   "cell_type": "code",
   "execution_count": null,
   "metadata": {},
   "outputs": [],
   "source": [
    "Yest2=A0*(sin(Omega1*t-2*pi*x/lambda1)-sin(Omega1*t+2*pi*x/lambda1))"
   ]
  },
  {
   "cell_type": "code",
   "execution_count": null,
   "metadata": {},
   "outputs": [],
   "source": [
    "Yest2"
   ]
  },
  {
   "cell_type": "code",
   "execution_count": null,
   "metadata": {},
   "outputs": [],
   "source": [
    "Yest2.expand(trig=True)"
   ]
  },
  {
   "cell_type": "markdown",
   "metadata": {},
   "source": [
    "### Mateixa ona, diferents temps"
   ]
  },
  {
   "cell_type": "markdown",
   "metadata": {},
   "source": [
    "Entrem la ona estacionaria de nou, perque el python no acaba de simplificar del tot"
   ]
  },
  {
   "cell_type": "code",
   "execution_count": null,
   "metadata": {},
   "outputs": [],
   "source": [
    "Yest3=-2*A0*cos(Omega1*t)*sin(2*pi*x/lambda1)"
   ]
  },
  {
   "cell_type": "code",
   "execution_count": null,
   "metadata": {},
   "outputs": [],
   "source": [
    "Yest3"
   ]
  },
  {
   "cell_type": "code",
   "execution_count": null,
   "metadata": {},
   "outputs": [],
   "source": [
    "Yest3=Yest3.subs({A0:1, Omega1: 2*pi*v/lambda1})"
   ]
  },
  {
   "cell_type": "code",
   "execution_count": null,
   "metadata": {},
   "outputs": [],
   "source": [
    "Yest3"
   ]
  },
  {
   "cell_type": "code",
   "execution_count": null,
   "metadata": {},
   "outputs": [],
   "source": [
    "Yest4=Yest3.subs({lambda1:20 , v:1})"
   ]
  },
  {
   "cell_type": "code",
   "execution_count": null,
   "metadata": {},
   "outputs": [],
   "source": [
    "Yest4"
   ]
  },
  {
   "cell_type": "markdown",
   "metadata": {},
   "source": [
    "t=0"
   ]
  },
  {
   "cell_type": "code",
   "execution_count": null,
   "metadata": {},
   "outputs": [],
   "source": [
    "plot(Yest4.subs(t,0),(x,0,20),ylim=(-2,2))\n",
    "plt.grid()"
   ]
  },
  {
   "cell_type": "markdown",
   "metadata": {},
   "source": [
    "t=4"
   ]
  },
  {
   "cell_type": "code",
   "execution_count": null,
   "metadata": {},
   "outputs": [],
   "source": [
    "myplot=plot(Yest4.subs(t,4),-2,2,(x,0,20),ylim=(-2,2),show=False)\n",
    "# Aixo es un truc brut, per donar els limits de l'eix y\n",
    "myplot[1].line_color='w'\n",
    "myplot[2].line_color='w'\n",
    "myplot.show()\n",
    "plt.grid()"
   ]
  },
  {
   "cell_type": "markdown",
   "metadata": {},
   "source": [
    "#### Ona en diferents temps"
   ]
  },
  {
   "cell_type": "code",
   "execution_count": null,
   "metadata": {},
   "outputs": [],
   "source": [
    "funcs=[Yest4.subs(t,i)-2*i for i in np.linspace(0,20,9)]\n",
    "pl1=plot(funcs[0],funcs[1],funcs[2],funcs[3],funcs[4],funcs[5],funcs[6],funcs[7],funcs[8],(x,0,20),ylim=(-45,2),show=False,legend=True)\n",
    "pl1[0].line_color='b'\n",
    "pl1[1].line_color='r'\n",
    "pl1[2].line_color='g'\n",
    "pl1[3].line_color='c'\n",
    "pl1[4].line_color='y'\n",
    "pl1[5].line_color=(.5,.5,1)\n",
    "pl1[6].line_color=(.5,1,.5)\n",
    "pl1[7].line_color=(1,.5,.5)\n",
    "pl1[8].line_color=(.5,1,1)\n",
    "pl1.show()\n",
    "plt.yticks(ticks=np.arange(0,-50,-5))\n",
    "plt.grid(which='both')\n",
    "plt.legend(('0','T/8','T/4','3T/8','T/2','5T/8','3T/4','7T/8','T'))"
   ]
  },
  {
   "cell_type": "markdown",
   "metadata": {},
   "source": [
    "#### Harmònics d'una ona estacionària"
   ]
  },
  {
   "cell_type": "code",
   "execution_count": null,
   "metadata": {},
   "outputs": [],
   "source": [
    "Yest5=Yest3.subs(t,0)"
   ]
  },
  {
   "cell_type": "code",
   "execution_count": null,
   "metadata": {},
   "outputs": [],
   "source": [
    "Yest5"
   ]
  },
  {
   "cell_type": "code",
   "execution_count": null,
   "metadata": {},
   "outputs": [],
   "source": [
    "funcs=[Yest5.subs(lambda1,2*20/i)-10*i for i in np.linspace(1,5,5)]\n",
    "pl1=plot(funcs[0],funcs[1],funcs[2],funcs[3],funcs[4],(x,0,20),ylim=(-55,2),show=False,legend=True)\n",
    "pl1[0].line_color='b'\n",
    "pl1[1].line_color='r'\n",
    "pl1[2].line_color='g'\n",
    "pl1[3].line_color='c'\n",
    "pl1[4].line_color='y'\n",
    "#pl1[5].line_color=(.5,.5,1)\n",
    "#pl1[6].line_color=(.5,1,.5)\n",
    "#pl1[7].line_color=(1,.5,.5)\n",
    "#pl1[8].line_color=(.5,1,1)\n",
    "pl1.show()\n",
    "plt.grid()\n",
    "plt.legend(('n=1','n=2','n=3','n=4','n=5'))"
   ]
  },
  {
   "cell_type": "markdown",
   "metadata": {},
   "source": [
    "#### Animacions ones estacionàries"
   ]
  },
  {
   "cell_type": "code",
   "execution_count": null,
   "metadata": {},
   "outputs": [],
   "source": [
    "def update_2functions_x_t(t,xrange,f1,f2,l1,l2):\n",
    "    '''update_2functions_t(t,xrange,f1,f2,l1,l2)\n",
    "    function to update 2 lines with 2 diferent functions\n",
    "    t: float, time\n",
    "    xrange: list of floats (total time range)\n",
    "    f1, f2: sympy expressions which depend only on 'x' and 't'\n",
    "    l1, l2: 2 plot line objects\n",
    "    '''\n",
    "    update_function_x_t(t,xrange,f1,l1)\n",
    "    update_function_x_t(t,xrange,f2,l2)\n",
    "    return l1,l2"
   ]
  },
  {
   "cell_type": "markdown",
   "metadata": {},
   "source": [
    "1er i 2on harmònic"
   ]
  },
  {
   "cell_type": "code",
   "execution_count": null,
   "metadata": {},
   "outputs": [],
   "source": [
    "Harm1=Yest3.subs({v:1 ,lambda1:40}) \n",
    "Harm2=Yest3.subs({v:1 ,lambda1:20}) "
   ]
  },
  {
   "cell_type": "code",
   "execution_count": null,
   "metadata": {},
   "outputs": [],
   "source": [
    "fig=plt.figure()\n",
    "## Dades de l'animacio\n",
    "XRANGE=np.linspace(0,20,50)\n",
    "TIMERANGE=np.linspace(0,40,50)\n",
    "F1=Harm1\n",
    "F2=Harm2\n",
    "XLIM=(min(XRANGE),max(XRANGE)) #x limits of the plots\n",
    "YLIM=(-2,2) #y limits of the plots\n",
    "##\n",
    "ax=plt.axes(xlim=XLIM,ylim=YLIM)\n",
    "line1, = ax.plot([],[],'b')\n",
    "line2, = ax.plot([],[],'g')\n",
    "plt.grid()\n",
    "anim1= animation.FuncAnimation(fig, #figure object\n",
    "                               update_2functions_x_t, #function to animate, in the form defined above\n",
    "                               fargs=(XRANGE,F1,F2,line1,line2),\n",
    "                               frames=TIMERANGE,\n",
    "                               interval=100, #Interval time (in ms) between updates. Lower number for faster animations (default: 200 ms)\n",
    "                               blit=True,repeat=True\n",
    "                               )"
   ]
  },
  {
   "cell_type": "markdown",
   "metadata": {},
   "source": [
    "3er i 4rt harmònic"
   ]
  },
  {
   "cell_type": "code",
   "execution_count": null,
   "metadata": {},
   "outputs": [],
   "source": [
    "Harm3=Yest3.subs({v:1 ,lambda1:40/3}) \n",
    "Harm4=Yest3.subs({v:1 ,lambda1:40/4}) "
   ]
  },
  {
   "cell_type": "code",
   "execution_count": null,
   "metadata": {},
   "outputs": [],
   "source": [
    "fig=plt.figure()\n",
    "## Dades de l'animacio\n",
    "XRANGE=np.linspace(0,20,50)\n",
    "TIMERANGE=np.linspace(0,40,50)\n",
    "F1=Harm3\n",
    "F2=Harm4\n",
    "XLIM=(min(XRANGE),max(XRANGE)) #x limits of the plots\n",
    "YLIM=(-2,2) #y limits of the plots\n",
    "##\n",
    "ax=plt.axes(xlim=XLIM,ylim=YLIM)\n",
    "line1, = ax.plot([],[],'b')\n",
    "line2, = ax.plot([],[],'g')\n",
    "plt.grid()\n",
    "anim1= animation.FuncAnimation(fig, #figure object\n",
    "                               update_2functions_x_t, #function to animate, in the form defined above\n",
    "                               fargs=(XRANGE,F1,F2,line1,line2),\n",
    "                               frames=TIMERANGE,\n",
    "                               interval=100, #Interval time (in ms) between updates. Lower number for faster animations (default: 200 ms)\n",
    "                               blit=True,repeat=True\n",
    "                               )"
   ]
  },
  {
   "cell_type": "markdown",
   "metadata": {},
   "source": [
    "## Pulsacions"
   ]
  },
  {
   "cell_type": "code",
   "execution_count": null,
   "metadata": {},
   "outputs": [],
   "source": [
    "Pulsa=A0*(sin(Omega0*(t-x/v))+sin((Omega0+0.05)*(t-x/v)))"
   ]
  },
  {
   "cell_type": "code",
   "execution_count": null,
   "metadata": {},
   "outputs": [],
   "source": [
    "Pulsa"
   ]
  },
  {
   "cell_type": "code",
   "execution_count": null,
   "metadata": {},
   "outputs": [],
   "source": [
    "Pulsa=Pulsa.subs({A0:1, v:1, Omega0: 2*pi/7})"
   ]
  },
  {
   "cell_type": "code",
   "execution_count": null,
   "metadata": {},
   "outputs": [],
   "source": [
    "Pulsa"
   ]
  },
  {
   "cell_type": "code",
   "execution_count": null,
   "metadata": {},
   "outputs": [],
   "source": [
    "fig=plt.figure()\n",
    "## Dades de l'animacio\n",
    "XRANGE=np.linspace(0,400,400)\n",
    "TIMERANGE=np.linspace(0,500,50)\n",
    "FUNCTION=Pulsa\n",
    "XLIM=(min(XRANGE),max(XRANGE)) #x limits of the plots\n",
    "YLIM=(-2,2) #y limits of the plots\n",
    "##\n",
    "ax=plt.axes(xlim=XLIM,ylim=YLIM)\n",
    "line, = ax.plot([],[])\n",
    "plt.grid()\n",
    "anim1= animation.FuncAnimation(fig, #figure object\n",
    "                               update_function_x_t, #function to animate, in the form defined above\n",
    "                               fargs=(XRANGE,FUNCTION,line),\n",
    "                               frames=TIMERANGE,\n",
    "                               interval=100, #Interval time (in ms) between updates. Lower number for faster animations (default: 200 ms)\n",
    "                               blit=True,repeat=True\n",
    "                               )"
   ]
  },
  {
   "cell_type": "code",
   "execution_count": null,
   "metadata": {},
   "outputs": [],
   "source": [
    "Pulsa2=Pulsa.subs(t,0)"
   ]
  },
  {
   "cell_type": "code",
   "execution_count": null,
   "metadata": {},
   "outputs": [],
   "source": [
    "plot(Pulsa2,(x,0,400))"
   ]
  },
  {
   "cell_type": "code",
   "execution_count": null,
   "metadata": {},
   "outputs": [],
   "source": []
  }
 ],
 "metadata": {
  "kernelspec": {
   "display_name": "Python 3",
   "language": "python",
   "name": "python3"
  },
  "language_info": {
   "codemirror_mode": {
    "name": "ipython",
    "version": 3
   },
   "file_extension": ".py",
   "mimetype": "text/x-python",
   "name": "python",
   "nbconvert_exporter": "python",
   "pygments_lexer": "ipython3",
   "version": "3.7.3"
  }
 },
 "nbformat": 4,
 "nbformat_minor": 2
}
