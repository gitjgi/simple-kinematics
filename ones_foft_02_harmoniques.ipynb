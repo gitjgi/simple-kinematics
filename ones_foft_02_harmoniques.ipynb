{
 "cells": [
  {
   "cell_type": "markdown",
   "metadata": {},
   "source": [
    "# Ones"
   ]
  },
  {
   "cell_type": "markdown",
   "metadata": {},
   "source": [
    "### Representació gràfica i animada dels conceptes d'ones"
   ]
  },
  {
   "cell_type": "markdown",
   "metadata": {},
   "source": [
    "Preparat per l'assignatura:\n",
    "\n",
    "Fonaments d'Ones Fluids i Termodinàmica\n",
    "\n",
    "Enginyeria Electrònica de Telecomunicacions\n",
    "\n",
    "Facultat de Física, Universitat de Barcelona"
   ]
  },
  {
   "cell_type": "markdown",
   "metadata": {},
   "source": [
    "(c) Jaume Guasch 2023, \n",
    "Llicència: Creative Commons \n",
    "CC-BY-NC-SA 4.0\n",
    "This work is licensed under CC BY-NC-SA 4.0 https://creativecommons.org/licenses/by-nc-sa/4.0/"
   ]
  },
  {
   "cell_type": "markdown",
   "metadata": {},
   "source": [
    "# Instruccions per entregar el treball"
   ]
  },
  {
   "cell_type": "markdown",
   "metadata": {},
   "source": [
    "1.- Escriu els teus nom i cognoms. Fes doble-clic a la cel·la de sota per editar-la, i escriu-hi el teus nom i cognoms"
   ]
  },
  {
   "cell_type": "markdown",
   "metadata": {},
   "source": [
    "**Cognoms, nom:** "
   ]
  },
  {
   "cell_type": "markdown",
   "metadata": {},
   "source": [
    "2.- Avalua **totes** les cel·les del document. Per avaluar una cel·la fes \"Majúscules-retorn\" o clica al botó \"Run\" del menú superior."
   ]
  },
  {
   "cell_type": "markdown",
   "metadata": {},
   "source": [
    "Opcionalment: Pots mirar de variar algun dels paràmetres de la simulació. **Compte!**: si varies el paràmetres probablement hauràs de canviar els límits dels gràfics (i potser algun altre paràmetre)."
   ]
  },
  {
   "cell_type": "markdown",
   "metadata": {},
   "source": [
    "3.- Guarda el resultat (amb tots els gràfics) en un document **PDF** i baixa'l al teu dispositiu. Utilitza el menú **Imprimir** del teu navegador"
   ]
  },
  {
   "cell_type": "markdown",
   "metadata": {},
   "source": [
    "4.- Entrega el PDF generat en la tasca corresponent del campus virtual"
   ]
  },
  {
   "cell_type": "markdown",
   "metadata": {},
   "source": [
    "Opcionalment: Pots baixar-te al teu ordinador el document com un notebook de python o com un programa python utilitzant el menú \"File->Download as ...\" del notebook. Després pots executar el programa al teu ordinador."
   ]
  },
  {
   "cell_type": "markdown",
   "metadata": {},
   "source": [
    "**NOTA**: el programa online **no guarda l'estat** has de fer-ho tot seguit en una sola sessió."
   ]
  },
  {
   "cell_type": "markdown",
   "metadata": {},
   "source": [
    "## Setup\n",
    "Inicialització dels entorns de càlcul i gràfics"
   ]
  },
  {
   "cell_type": "code",
   "execution_count": null,
   "metadata": {},
   "outputs": [],
   "source": [
    "# Càlcul Simbòlic\n",
    "from sympy import *"
   ]
  },
  {
   "cell_type": "code",
   "execution_count": null,
   "metadata": {},
   "outputs": [],
   "source": [
    "# Gràfics\n",
    "import matplotlib.pyplot as plt"
   ]
  },
  {
   "cell_type": "code",
   "execution_count": null,
   "metadata": {},
   "outputs": [],
   "source": [
    "# Animacions\n",
    "import matplotlib.animation as animation"
   ]
  },
  {
   "cell_type": "code",
   "execution_count": null,
   "metadata": {},
   "outputs": [],
   "source": [
    "# Per càlculs numèrics\n",
    "import numpy as np"
   ]
  },
  {
   "cell_type": "markdown",
   "metadata": {},
   "source": [
    "**ATENCIÓ**\n",
    "Això és necessari per mostrar les animacions dins el notebook.\n",
    "Noteu que **ÉS CONVENIENT PARAR** el gràfic després de veure'l"
   ]
  },
  {
   "cell_type": "code",
   "execution_count": null,
   "metadata": {},
   "outputs": [],
   "source": [
    "# Aquest entorn és només per entorn \"jupyter notebook\", \n",
    "# per posar els gràfics dins el mateix notebook\n",
    "# Comentar aquesta línia en altres entorns:\n",
    "########\n",
    "# Per utlitzar amb entorn online a mybinder.org:\n",
    "%matplotlib widget\n",
    "########\n",
    "# Si s'utilitza en un entorn \"jupyter notebook\" localment a l'ordinador\n",
    "# cal comentar la linia anterior, i descomentar la següent\n",
    "#%matplotlib notebook"
   ]
  },
  {
   "cell_type": "code",
   "execution_count": null,
   "metadata": {},
   "outputs": [],
   "source": [
    "# Per escriure els outputs de forma bonica:\n",
    "init_printing(use_unicode=True)"
   ]
  },
  {
   "cell_type": "code",
   "execution_count": null,
   "metadata": {},
   "outputs": [],
   "source": [
    "# Les variables x, t, les utilitzarem per definir les funcions de les ones\n",
    "x, t, v=symbols('x t v')"
   ]
  },
  {
   "cell_type": "code",
   "execution_count": null,
   "metadata": {},
   "outputs": [],
   "source": [
    "# Aquesta funció serveix per fer les animacions.\n",
    "# Donada una certa expressió \"f\" en sympy, que depèn de'x' i 't',\n",
    "# torna un objecte 'line', que és una línia de 'plot'\n",
    "def update_function_x_t(time, xrange, f, line):\n",
    "    '''update_function_x_t(time, xrange, f, line)\n",
    "    function used to animate a wave, for shape \"f\", which depends on sympy symbols 'x' and 't'\n",
    "    time = float : numerical scalar, represents time \n",
    "    xrange = list of floats, a list (or range) of space variable 'x', created for example \n",
    "             as x=np.linspace(-10,10,20)\n",
    "    f = sympy expression, which depends **ONLY** on sympy symbols 'x' and 't'\n",
    "    line = line object from a plot to be updated\n",
    "    '''\n",
    "    # substitute the value of time\n",
    "    f1=f.subs(t,time)\n",
    "    # substitute the value of x. Since x is a range, we have to make it in a loop (comprehension list)\n",
    "    # f2=[f1.subs(x,i) for i in xrange]\n",
    "    # To speed up things, convert f1 to an anonymous lambda function from numpy\n",
    "    f1lambda=lambdify(x,f1,'numpy')\n",
    "    f2=f1lambda(xrange)\n",
    "    line.set_data(xrange,f2)\n",
    "    return line,"
   ]
  },
  {
   "cell_type": "code",
   "execution_count": null,
   "metadata": {},
   "outputs": [],
   "source": [
    "A0, Omega0 = symbols('A0 Omega0')"
   ]
  },
  {
   "cell_type": "markdown",
   "metadata": {},
   "source": [
    "# Ona Harmònica"
   ]
  },
  {
   "cell_type": "code",
   "execution_count": null,
   "metadata": {},
   "outputs": [],
   "source": [
    "y=A0*sin(Omega0 *(t-x/v))"
   ]
  },
  {
   "cell_type": "code",
   "execution_count": null,
   "metadata": {},
   "outputs": [],
   "source": [
    "y"
   ]
  },
  {
   "cell_type": "markdown",
   "metadata": {},
   "source": [
    "Donem valors numèrics"
   ]
  },
  {
   "cell_type": "code",
   "execution_count": null,
   "metadata": {},
   "outputs": [],
   "source": [
    "# velocitat v\n",
    "Rational(20,7)"
   ]
  },
  {
   "cell_type": "code",
   "execution_count": null,
   "metadata": {},
   "outputs": [],
   "source": [
    "y=y.subs( {A0: 1, Omega0: 2*pi/7, v: Rational(20,7)})"
   ]
  },
  {
   "cell_type": "code",
   "execution_count": null,
   "metadata": {},
   "outputs": [],
   "source": [
    "y"
   ]
  },
  {
   "cell_type": "code",
   "execution_count": null,
   "metadata": {},
   "outputs": [],
   "source": [
    "Lambda = v *2*pi/Omega0\n",
    "Lambda"
   ]
  },
  {
   "cell_type": "markdown",
   "metadata": {},
   "source": [
    "Omega0 = 2 pi/T\n",
    "v= Lambda/T = 20/7 --> Lambda = v T = 20"
   ]
  },
  {
   "cell_type": "code",
   "execution_count": null,
   "metadata": {},
   "outputs": [],
   "source": [
    "Lambda = Lambda.subs( {A0: 1, Omega0: 2*pi/7, v: Rational(20,7)})"
   ]
  },
  {
   "cell_type": "code",
   "execution_count": null,
   "metadata": {},
   "outputs": [],
   "source": [
    "Lambda"
   ]
  },
  {
   "cell_type": "markdown",
   "metadata": {},
   "source": [
    "### a x= constant, x=0, Oscil·lador harmònic"
   ]
  },
  {
   "cell_type": "code",
   "execution_count": null,
   "metadata": {},
   "outputs": [],
   "source": [
    "y1=y.subs(x,0)"
   ]
  },
  {
   "cell_type": "code",
   "execution_count": null,
   "metadata": {},
   "outputs": [],
   "source": [
    "y1"
   ]
  },
  {
   "cell_type": "code",
   "execution_count": null,
   "metadata": {},
   "outputs": [],
   "source": [
    "plot(y1,(t,0,15))\n",
    "plt.grid()"
   ]
  },
  {
   "cell_type": "markdown",
   "metadata": {},
   "source": [
    "x=3"
   ]
  },
  {
   "cell_type": "code",
   "execution_count": null,
   "metadata": {},
   "outputs": [],
   "source": [
    "y1=y.subs(x,3)"
   ]
  },
  {
   "cell_type": "code",
   "execution_count": null,
   "metadata": {},
   "outputs": [],
   "source": [
    "y1"
   ]
  },
  {
   "cell_type": "code",
   "execution_count": null,
   "metadata": {},
   "outputs": [],
   "source": [
    "expand(y1)"
   ]
  },
  {
   "cell_type": "code",
   "execution_count": null,
   "metadata": {},
   "outputs": [],
   "source": [
    "plot(y1,(t,0,15))\n",
    "plt.grid()"
   ]
  },
  {
   "cell_type": "markdown",
   "metadata": {},
   "source": [
    "### a t=constant (t=0) forma d'ona"
   ]
  },
  {
   "cell_type": "code",
   "execution_count": null,
   "metadata": {},
   "outputs": [],
   "source": [
    "y2=y.subs(t,0)"
   ]
  },
  {
   "cell_type": "code",
   "execution_count": null,
   "metadata": {},
   "outputs": [],
   "source": [
    "y2"
   ]
  },
  {
   "cell_type": "code",
   "execution_count": null,
   "metadata": {},
   "outputs": [],
   "source": [
    "plot(y2,(x,0,15))\n",
    "plt.grid()"
   ]
  },
  {
   "cell_type": "code",
   "execution_count": null,
   "metadata": {},
   "outputs": [],
   "source": [
    "plot(y2,(x,0,30))\n",
    "plt.grid()"
   ]
  },
  {
   "cell_type": "markdown",
   "metadata": {},
   "source": [
    "### Mateixa Ona a diferents temps"
   ]
  },
  {
   "cell_type": "markdown",
   "metadata": {},
   "source": [
    "t=0"
   ]
  },
  {
   "cell_type": "code",
   "execution_count": null,
   "metadata": {},
   "outputs": [],
   "source": [
    "plot(y.subs(t,0),(x,0,30))\n",
    "plt.grid()"
   ]
  },
  {
   "cell_type": "markdown",
   "metadata": {},
   "source": [
    "t=1"
   ]
  },
  {
   "cell_type": "code",
   "execution_count": null,
   "metadata": {},
   "outputs": [],
   "source": [
    "plot(y.subs(t,1),(x,0,30))\n",
    "plt.grid()"
   ]
  },
  {
   "cell_type": "markdown",
   "metadata": {},
   "source": [
    "t=7, període"
   ]
  },
  {
   "cell_type": "code",
   "execution_count": null,
   "metadata": {},
   "outputs": [],
   "source": [
    "plot(y.subs(t,7),(x,0,30))\n",
    "plt.grid()"
   ]
  },
  {
   "cell_type": "markdown",
   "metadata": {},
   "source": [
    "#### Ona en diferents temps, t=0, T/4, T/2, 3 T/4, T"
   ]
  },
  {
   "cell_type": "code",
   "execution_count": null,
   "metadata": {},
   "outputs": [],
   "source": [
    "funcs=[y.subs(t,i)-20/7*i for i in np.linspace(0,7,5)]\n",
    "func2=-7*x/20*20/7\n",
    "pl1=plot(funcs[0],funcs[1],funcs[2],funcs[3],funcs[4],func2,(x,0,50),ylim=(-25,1),show=False,legend=True)\n",
    "pl1[0].line_color='b'\n",
    "pl1[1].line_color='r'\n",
    "pl1[2].line_color='g'\n",
    "pl1[3].line_color='c'\n",
    "pl1[4].line_color='y'\n",
    "pl1.show()\n",
    "plt.grid()\n",
    "plt.legend(('0','T/4','T/2','3T/4','T'))"
   ]
  },
  {
   "cell_type": "markdown",
   "metadata": {},
   "source": [
    "### Animació ona viatgera"
   ]
  },
  {
   "cell_type": "code",
   "execution_count": null,
   "metadata": {
    "scrolled": false
   },
   "outputs": [],
   "source": [
    "fig=plt.figure()\n",
    "## Dades de l'animacio\n",
    "XRANGE=np.linspace(0,50,100)\n",
    "TIMERANGE=np.linspace(0,14,20)\n",
    "FUNCTION=y\n",
    "XLIM=(min(XRANGE),max(XRANGE)) #x limits of the plots\n",
    "YLIM=(-1,1) #y limits of the plots\n",
    "##\n",
    "ax=plt.axes(xlim=XLIM,ylim=YLIM)\n",
    "line, = ax.plot([],[])\n",
    "plt.grid()\n",
    "anim1= animation.FuncAnimation(fig, #figure object\n",
    "                               update_function_x_t, #function to animate, in the form defined above\n",
    "                               fargs=(XRANGE,FUNCTION,line),\n",
    "                               frames=TIMERANGE,\n",
    "                               interval=100, #Interval time (in ms) between updates. Lower number for faster animations (default: 200 ms)\n",
    "                               blit=True,repeat=False\n",
    "                               )"
   ]
  },
  {
   "cell_type": "code",
   "execution_count": null,
   "metadata": {},
   "outputs": [],
   "source": []
  }
 ],
 "metadata": {
  "kernelspec": {
   "display_name": "Python 3 (ipykernel)",
   "language": "python",
   "name": "python3"
  },
  "language_info": {
   "codemirror_mode": {
    "name": "ipython",
    "version": 3
   },
   "file_extension": ".py",
   "mimetype": "text/x-python",
   "name": "python",
   "nbconvert_exporter": "python",
   "pygments_lexer": "ipython3",
   "version": "3.11.2"
  }
 },
 "nbformat": 4,
 "nbformat_minor": 2
}
