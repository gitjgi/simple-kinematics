{
 "cells": [
  {
   "cell_type": "markdown",
   "metadata": {},
   "source": [
    "# Moviment Oscil·latori Harmònic Simple"
   ]
  },
  {
   "cell_type": "markdown",
   "metadata": {},
   "source": [
    "### Representació gràfica de: trajectòria, velocitat, acceleració"
   ]
  },
  {
   "cell_type": "markdown",
   "metadata": {},
   "source": [
    "Preparat per l'assignatura:\n",
    "\n",
    "Fonaments d'Ones Fluids i Termodinàmica\n",
    "\n",
    "Enginyeria Electrònica de Telecomunicacions\n",
    "\n",
    "Facultat de Física, Universitat de Barcelona"
   ]
  },
  {
   "cell_type": "markdown",
   "metadata": {},
   "source": [
    "(c) Jaume Guasch 2023, \n",
    "Llicència: Creative Commons \n",
    "CC-BY-NC-SA 4.0\n",
    "This work is licensed under CC BY-NC-SA 4.0 https://creativecommons.org/licenses/by-nc-sa/4.0/"
   ]
  },
  {
   "cell_type": "markdown",
   "metadata": {},
   "source": [
    "# Instruccions per entregar el treball"
   ]
  },
  {
   "cell_type": "markdown",
   "metadata": {},
   "source": [
    "1.- Escriu els teus nom i cognoms. Fes doble-clic a la cel·la de sota per editar-la, i escriu-hi el teus nom i cognoms"
   ]
  },
  {
   "cell_type": "markdown",
   "metadata": {},
   "source": [
    "**Cognoms, nom:** "
   ]
  },
  {
   "cell_type": "markdown",
   "metadata": {},
   "source": [
    "2.- Avalua **totes** les cel·les del document. Per avaluar una cel·la fes \"Majúscules-retorn\" o clica al botó \"Run\" del menú superior."
   ]
  },
  {
   "cell_type": "markdown",
   "metadata": {},
   "source": [
    "Opcionalment: Pots mirar de variar algun dels paràmetres de la simulació. **Compte!**: si varies el paràmetres probablement hauràs de canviar els límits dels gràfics (i potser algun altre paràmetre)."
   ]
  },
  {
   "cell_type": "markdown",
   "metadata": {},
   "source": [
    "3.- Guarda el resultat (amb tots els gràfics) en un document **PDF** i baixa'l al teu dispositiu. Utilitza el menú **Imprimir** del teu navegador"
   ]
  },
  {
   "cell_type": "markdown",
   "metadata": {},
   "source": [
    "4.- Entrega el PDF generat en la tasca corresponent del campus virtual"
   ]
  },
  {
   "cell_type": "markdown",
   "metadata": {},
   "source": [
    "Opcionalment: Pots baixar-te al teu ordinador el document com un notebook de python o com un programa python utilitzant el menú \"File->Download as ...\" del notebook. Després pots executar el programa al teu ordinador."
   ]
  },
  {
   "cell_type": "markdown",
   "metadata": {},
   "source": [
    "**NOTA**: el programa online **no guarda l'estat** has de fer-ho tot seguit en una sola sessió."
   ]
  },
  {
   "cell_type": "markdown",
   "metadata": {},
   "source": [
    "## Introducció: importar biblioteques i definicions"
   ]
  },
  {
   "cell_type": "code",
   "execution_count": null,
   "metadata": {},
   "outputs": [],
   "source": [
    "from sympy import *"
   ]
  },
  {
   "cell_type": "code",
   "execution_count": null,
   "metadata": {},
   "outputs": [],
   "source": [
    "import matplotlib.pyplot as plt"
   ]
  },
  {
   "cell_type": "code",
   "execution_count": null,
   "metadata": {},
   "outputs": [],
   "source": [
    "# Animacions\n",
    "import matplotlib.animation as animation"
   ]
  },
  {
   "cell_type": "code",
   "execution_count": null,
   "metadata": {},
   "outputs": [],
   "source": [
    "# Necessitem el numpy per fer llistats de temps que NO siguin enters\n",
    "import numpy as np"
   ]
  },
  {
   "cell_type": "markdown",
   "metadata": {},
   "source": [
    "**ATENCIÓ**\n",
    "Això és necessari per mostrar les animacions dins el notebook.\n",
    "Noteu que **ÉS CONVENIENT PARAR** el gràfic després de veure'l"
   ]
  },
  {
   "cell_type": "code",
   "execution_count": null,
   "metadata": {},
   "outputs": [],
   "source": [
    "# Aquest entorn és només per entorn \"jupyter notebook\", \n",
    "# per posar els gràfics dins el mateix notebook\n",
    "# Comentar aquesta línia en altres entorns:\n",
    "%matplotlib notebook"
   ]
  },
  {
   "cell_type": "code",
   "execution_count": null,
   "metadata": {},
   "outputs": [],
   "source": [
    "init_printing(use_unicode=True)"
   ]
  },
  {
   "cell_type": "code",
   "execution_count": null,
   "metadata": {},
   "outputs": [],
   "source": [
    "t=symbols('t')"
   ]
  },
  {
   "cell_type": "markdown",
   "metadata": {},
   "source": [
    "## posició"
   ]
  },
  {
   "cell_type": "code",
   "execution_count": null,
   "metadata": {},
   "outputs": [],
   "source": [
    "x=100*cos(2*pi/10*t)"
   ]
  },
  {
   "cell_type": "code",
   "execution_count": null,
   "metadata": {},
   "outputs": [],
   "source": [
    "x"
   ]
  },
  {
   "cell_type": "markdown",
   "metadata": {},
   "source": [
    "Paràmetres del moviment"
   ]
  },
  {
   "cell_type": "code",
   "execution_count": null,
   "metadata": {},
   "outputs": [],
   "source": [
    "# Freqüència angular\n",
    "Omega=2*pi/10"
   ]
  },
  {
   "cell_type": "code",
   "execution_count": null,
   "metadata": {},
   "outputs": [],
   "source": [
    "Omega"
   ]
  },
  {
   "cell_type": "code",
   "execution_count": null,
   "metadata": {},
   "outputs": [],
   "source": [
    "# Freqüència\n",
    "Nu=Omega/(2*pi)"
   ]
  },
  {
   "cell_type": "code",
   "execution_count": null,
   "metadata": {},
   "outputs": [],
   "source": [
    "Nu"
   ]
  },
  {
   "cell_type": "code",
   "execution_count": null,
   "metadata": {},
   "outputs": [],
   "source": [
    "# Periode\n",
    "Tper=1/Nu"
   ]
  },
  {
   "cell_type": "code",
   "execution_count": null,
   "metadata": {
    "scrolled": true
   },
   "outputs": [],
   "source": [
    "Tper"
   ]
  },
  {
   "cell_type": "markdown",
   "metadata": {},
   "source": [
    "Donem un valor constant a la y, per poder fer els gràfics. Aquest truc és perquè el SYMPY es pensi que és una funció"
   ]
  },
  {
   "cell_type": "code",
   "execution_count": null,
   "metadata": {},
   "outputs": [],
   "source": [
    "y=10+0*t"
   ]
  },
  {
   "cell_type": "code",
   "execution_count": null,
   "metadata": {},
   "outputs": [],
   "source": [
    "y"
   ]
  },
  {
   "cell_type": "markdown",
   "metadata": {},
   "source": [
    "## velocitat\n",
    "\n",
    "La derivada de la posició \"diff\""
   ]
  },
  {
   "cell_type": "code",
   "execution_count": null,
   "metadata": {},
   "outputs": [],
   "source": [
    "vx=diff(x,t)"
   ]
  },
  {
   "cell_type": "code",
   "execution_count": null,
   "metadata": {},
   "outputs": [],
   "source": [
    "vx"
   ]
  },
  {
   "cell_type": "code",
   "execution_count": null,
   "metadata": {},
   "outputs": [],
   "source": [
    "vy=diff(y,t)\n",
    "vy"
   ]
  },
  {
   "cell_type": "markdown",
   "metadata": {},
   "source": [
    "## acceleració\n",
    "\n",
    "La derivada de la velocitat"
   ]
  },
  {
   "cell_type": "code",
   "execution_count": null,
   "metadata": {},
   "outputs": [],
   "source": [
    "ax=diff(vx,t)\n",
    "ax"
   ]
  },
  {
   "cell_type": "code",
   "execution_count": null,
   "metadata": {},
   "outputs": [],
   "source": [
    "ay=diff(vy,t)\n",
    "ay"
   ]
  },
  {
   "cell_type": "markdown",
   "metadata": {},
   "source": [
    "## Gràfics\n",
    "### Trajectoria: gràfic de (x,y)"
   ]
  },
  {
   "cell_type": "code",
   "execution_count": null,
   "metadata": {},
   "outputs": [],
   "source": [
    "plotting.plot_parametric((x,y),(t,0,10),xlim=(-120,120),ylim=(-30,30),show=True)\n",
    "plt.grid()"
   ]
  },
  {
   "cell_type": "markdown",
   "metadata": {},
   "source": [
    "### Posició en funció del temps"
   ]
  },
  {
   "cell_type": "code",
   "execution_count": null,
   "metadata": {},
   "outputs": [],
   "source": [
    "plotting.plot(x,(t,0,30),ylabel=\"x\",xlabel=\"t\")\n",
    "plt.grid()"
   ]
  },
  {
   "cell_type": "markdown",
   "metadata": {},
   "source": [
    "### Velocitat vx"
   ]
  },
  {
   "cell_type": "code",
   "execution_count": null,
   "metadata": {},
   "outputs": [],
   "source": [
    "# Utilitzem el numpy, per fer una llista de temps amb nombres no enters\n",
    "temps=np.linspace(0,10,12,endpoint=False)"
   ]
  },
  {
   "cell_type": "markdown",
   "metadata": {},
   "source": [
    "Problemes del PYTHON:\n",
    "* Al fer un \"subs\" sobre una variable, s'obté un valor numèric de SYMPY: type sympy.core.numbers.Float\n",
    "* PERÒ per utilitzar el \"quiver\" s'han d'utilitzar tipus numerics de PYTHON: type int o float, etc.\n",
    "* després de substituir, cal convertir els tipus a \"float\""
   ]
  },
  {
   "cell_type": "code",
   "execution_count": null,
   "metadata": {},
   "outputs": [],
   "source": [
    "# posem unes coordenades per fer una trajectoria més suau\n",
    "temps2=np.linspace(0,10,10)\n",
    "XTRAJ=[float(x.subs(t,i)) for i in temps2]\n",
    "YTRAJ=[float(y.subs(t,i)) for i in temps2]"
   ]
  },
  {
   "cell_type": "code",
   "execution_count": null,
   "metadata": {},
   "outputs": [],
   "source": [
    "XPOS=[float(x.subs(t,i)) for i in temps]\n",
    "YPOS=[float(y.subs(t,i)) for i in temps]\n",
    "VX=[float(vx.subs(t,i)) for i in temps]\n",
    "VY=[float(vy.subs(t,i)) for i in temps]\n",
    "ZERO=[0 for i in temps]"
   ]
  },
  {
   "cell_type": "code",
   "execution_count": null,
   "metadata": {},
   "outputs": [],
   "source": [
    "myfig , myax = plt.subplots()\n",
    "myax.quiver( XPOS, YPOS, VX, ZERO,color='g',angles='xy',scale_units='xy',scale=3)\n",
    "myax.plot(XPOS,YPOS,'bo')\n",
    "#myax.plot(XTRAJ,YTRAJ)\n",
    "myax.set(xlim=(-120,120),ylim=(0,20))\n",
    "plt.grid()\n",
    "plt.show()"
   ]
  },
  {
   "cell_type": "markdown",
   "metadata": {},
   "source": [
    "### Velocitat en funció del temps"
   ]
  },
  {
   "cell_type": "code",
   "execution_count": null,
   "metadata": {},
   "outputs": [],
   "source": [
    "myplt=plotting.plot(x,vx,(t,0,30),legend=True,show=False)\n",
    "myplt[0].line_color='b'\n",
    "myplt[0].label='x'\n",
    "myplt[1].line_color='g'\n",
    "myplt[1].label='v'\n",
    "myplt.show()\n",
    "plt.grid()"
   ]
  },
  {
   "cell_type": "markdown",
   "metadata": {},
   "source": [
    "### Acceleració"
   ]
  },
  {
   "cell_type": "code",
   "execution_count": null,
   "metadata": {},
   "outputs": [],
   "source": [
    "AX=[float(ax.subs(t,i)) for i in temps]\n",
    "AY=[float(ay.subs(t,i)) for i in temps]"
   ]
  },
  {
   "cell_type": "code",
   "execution_count": null,
   "metadata": {},
   "outputs": [],
   "source": [
    "myfig , myax = plt.subplots()\n",
    "myax.quiver( XPOS, YPOS, AX, ZERO,color='r',angles='xy',scale_units='xy',scale=1.5)\n",
    "myax.plot(XPOS,YPOS,'bo')\n",
    "#myax.plot(XTRAJ,YTRAJ)\n",
    "myax.set(xlim=(-120,120),ylim=(0,20))\n",
    "plt.grid()\n",
    "plt.show()"
   ]
  },
  {
   "cell_type": "markdown",
   "metadata": {},
   "source": [
    "#### Acceleració en funció del temps"
   ]
  },
  {
   "cell_type": "code",
   "execution_count": null,
   "metadata": {},
   "outputs": [],
   "source": [
    "myplt=plotting.plot(x,vx,ax,(t,0,30),legend=True,show=False)\n",
    "myplt[0].line_color='b'\n",
    "myplt[0].label='x'\n",
    "myplt[1].line_color='g'\n",
    "myplt[1].label='v'\n",
    "myplt[2].line_color='r'\n",
    "myplt[2].label='a'\n",
    "myplt.show()\n",
    "plt.grid()"
   ]
  },
  {
   "cell_type": "markdown",
   "metadata": {},
   "source": [
    "### Trajectoria + velocitat + acceleració"
   ]
  },
  {
   "cell_type": "code",
   "execution_count": null,
   "metadata": {},
   "outputs": [],
   "source": [
    "myfig , myax = plt.subplots()\n",
    "myax.quiver( XPOS, YPOS, VX, VY,color='g',angles='xy',scale_units='xy',scale=3)\n",
    "myax.quiver(XPOS,YPOS,AX,AY,color='red',angles='xy',scale_units='xy',scale=1.5)\n",
    "myax.plot(XPOS,YPOS,'bo')\n",
    "myax.set(xlim=(-120,120),ylim=(0,20))\n",
    "plt.show()\n",
    "plt.grid()"
   ]
  },
  {
   "cell_type": "markdown",
   "metadata": {},
   "source": [
    "## Animació"
   ]
  },
  {
   "cell_type": "markdown",
   "metadata": {},
   "source": [
    "#### La funció per actualitzar la velocitat"
   ]
  },
  {
   "cell_type": "markdown",
   "metadata": {},
   "source": [
    "Els punts on s'han de posar els vectors ens venen fixats quan es crea el grafic (quiver). El que hem de fer es posar els punts de la trajectoria, i anar-los actualitzant.\n",
    "Com que ja els tenim calculats, podem utilitzar-los"
   ]
  },
  {
   "cell_type": "markdown",
   "metadata": {},
   "source": [
    "Si volem més punts, que siguin float, no podem utilitzar el range. Incorporem el numpy, i recalculem la trajectoria i els vectors"
   ]
  },
  {
   "cell_type": "code",
   "execution_count": null,
   "metadata": {},
   "outputs": [],
   "source": [
    "temps=np.linspace(0,10,100)\n",
    "XPOS=[float(x.subs(t,i)) for i in temps]\n",
    "YPOS=[float(y.subs(t,i)) for i in temps]\n",
    "VX=[float(vx.subs(t,i)) for i in temps]\n",
    "VY=[float(vy.subs(t,i)) for i in temps]\n",
    "AX=[float(ax.subs(t,i)) for i in temps]\n",
    "AY=[float(ay.subs(t,i)) for i in temps]\n",
    "ZERO=[0 for i in temps]"
   ]
  },
  {
   "cell_type": "code",
   "execution_count": null,
   "metadata": {},
   "outputs": [],
   "source": [
    "def update_vector(index, Q, VX, VY):\n",
    "    '''update_vector(index, Q, VX, VY)\n",
    "    function used to animate a vector (Quiver).\n",
    "    index = integer : Input. Position in the Quiver that will be updated\n",
    "    Q = Quiver : Output. Quiver (vector space) that will be updated\n",
    "    VX = Array of floats: Array containing the x-component of the vector at all array positions \n",
    "    VX = Array of floats: Array containing the y-component of the vector at all array positions \n",
    "    It returns a Quiver (vector space) which contains 0 at all points, except at the point \"index\"\n",
    "    '''  \n",
    "    # create a list of zeros, the size of the quiver\n",
    "    MYVX=[0]*len(VX)\n",
    "    MYVY=[0]*len(VY)\n",
    "    # take the \"index\" value, and put in in the quiver\n",
    "    MYVX[index]=VX[index]\n",
    "    MYVY[index]=VY[index]\n",
    "    Q.set_UVC(MYVX,MYVY)\n",
    "    #Q.X=array([X])\n",
    "    #Q.Y=array([Y])\n",
    "    #Q.remove()\n",
    "    #Q=myax.quiver(X,Y,VX,VY,color='b',angles='xy',scale_units='xy',scale=1)\n",
    "    return Q,"
   ]
  },
  {
   "cell_type": "markdown",
   "metadata": {},
   "source": [
    "#### Velocitat"
   ]
  },
  {
   "cell_type": "code",
   "execution_count": null,
   "metadata": {},
   "outputs": [],
   "source": [
    "fig, myax=plt.subplots(1,1)\n",
    "Q = myax.quiver(XPOS,YPOS,ZERO,ZERO,color='g',angles='xy',scale_units='xy',scale=1, minshaft = 1, minlength=0)\n",
    "myax.set_xlim(-120,120)\n",
    "myax.set_ylim(-0,20)\n",
    "framenumbers=len(temps) #We are indexing the position of the vector, this is the total number of elements.\n",
    "animv=animation.FuncAnimation(fig, #figure object\n",
    "                              update_vector, #function to animate, in the form defined above\n",
    "                              fargs=(Q,VX,VY), #arguments to the function update_vector\n",
    "                              frames=framenumbers, #We are updating a natural index, we can just give the last value\n",
    "                              interval=20, #Interval time (in ms) between updates. Lower number for faster animations (default: 200 ms)\n",
    "                              blit=True,repeat=True)"
   ]
  },
  {
   "cell_type": "markdown",
   "metadata": {},
   "source": [
    "#### Velocitat + acceleració"
   ]
  },
  {
   "cell_type": "code",
   "execution_count": null,
   "metadata": {},
   "outputs": [],
   "source": [
    "def update_velocitat_acceleracio(index, QV, QA, VX, VY, AX, AY):\n",
    "    '''update_velocitat_acceleracio(index, QV, QA, VX, VY, AX, AY)\n",
    "    function used to animate a vector (Quiver).\n",
    "    It returns TWO vectors (Quivers): \n",
    "    Total velocity (QV), \n",
    "    Total acceleration (QA),\n",
    "    index = integer : Input. Position in the Quiver that will be updated\n",
    "    QV = Quiver : Output. Quiver (vector space) that will be updated\n",
    "    QA = Quiver : Output. Quiver (vector space) that will be updated\n",
    "    VX = Array of floats: Array containing the x-component of the V vector at all array positions \n",
    "    VY = Array of floats: Array containing the y-component of the V vector at all array positions \n",
    "    AX = Array of floats: Array containing the x-component of the A vector at all array positions \n",
    "    AY = Array of floats: Array containing the y-component of the A vector at all array positions \n",
    "    VX, VY, AX, AY MUST have the same dimension.\n",
    "    It returns a Quiver (vector space) which contains 0 at all points, except at the point \"index\"\n",
    "    '''  \n",
    "    # we use the update function defined before\n",
    "    QV=update_vector(index,QV,VX,VY)\n",
    "    QA=update_vector(index,QA,AX,AY)\n",
    "\n",
    "    return QV,"
   ]
  },
  {
   "cell_type": "markdown",
   "metadata": {},
   "source": [
    "#### Acceleració total"
   ]
  },
  {
   "cell_type": "code",
   "execution_count": null,
   "metadata": {},
   "outputs": [],
   "source": [
    "fig, myax=plt.subplots(1,1)\n",
    "QA = myax.quiver(XPOS,YPOS,ZERO,ZERO,color='r',angles='xy',scale_units='xy',scale=1, minshaft = 1, minlength=0)\n",
    "#trajec=plt.plot(XPOS,YPOS,color='black')\n",
    "myax.set_xlim(-120,120)\n",
    "myax.set_ylim(0,20)\n",
    "framenumbers=len(temps) #We are indexing the position of the vector, this is the total number of elements.\n",
    "animv=animation.FuncAnimation(fig, #figure object\n",
    "                              update_vector, #function to animate, in the form defined above\n",
    "                              fargs=(QA,AX,AY), #arguments to the function update_vector\n",
    "                              frames=framenumbers, #We are updating a natural index, we can just give the last value\n",
    "                              interval=20, #Interval time (in ms) between updates. Lower number for faster animations (default: 200 ms)\n",
    "                              blit=True,repeat=True)"
   ]
  },
  {
   "cell_type": "markdown",
   "metadata": {},
   "source": [
    "#### Acceleració + velocitat sense components"
   ]
  },
  {
   "cell_type": "code",
   "execution_count": null,
   "metadata": {},
   "outputs": [],
   "source": [
    "fig, myax=plt.subplots(1,1)\n",
    "QV = myax.quiver(XPOS,YPOS,ZERO,ZERO,color='g',angles='xy',scale_units='xy',scale=1, minshaft = 1, minlength=0)\n",
    "QA = myax.quiver(XPOS,YPOS,ZERO,ZERO,color='red',angles='xy',scale_units='xy',scale=1, minshaft = 1, minlength=0)\n",
    "myax.set_xlim(-120,120)\n",
    "myax.set_ylim(-0,20)\n",
    "framenumbers=len(temps) #We are indexing the position of the vector, this is the total number of elements.\n",
    "animv=animation.FuncAnimation(fig, #figure object\n",
    "                              update_velocitat_acceleracio, #function to animate, in the form defined above\n",
    "                              fargs=(QV,QA,VX,VY,AX,AY), #arguments to the function update_vector\n",
    "                              frames=framenumbers, #We are updating a natural index, we can just give the last value\n",
    "                              interval=20, #Interval time (in ms) between updates. Lower number for faster animations (default: 200 ms)\n",
    "                              blit=True,repeat=True)"
   ]
  },
  {
   "cell_type": "code",
   "execution_count": null,
   "metadata": {},
   "outputs": [],
   "source": []
  }
 ],
 "metadata": {
  "kernelspec": {
   "display_name": "Python 3 (ipykernel)",
   "language": "python",
   "name": "python3"
  },
  "language_info": {
   "codemirror_mode": {
    "name": "ipython",
    "version": 3
   },
   "file_extension": ".py",
   "mimetype": "text/x-python",
   "name": "python",
   "nbconvert_exporter": "python",
   "pygments_lexer": "ipython3",
   "version": "3.11.2"
  }
 },
 "nbformat": 4,
 "nbformat_minor": 2
}
